{
 "cells": [
  {
   "cell_type": "code",
   "execution_count": 78,
   "metadata": {
    "collapsed": true
   },
   "outputs": [],
   "source": [
    "from sklearn import svm"
   ]
  },
  {
   "cell_type": "code",
   "execution_count": null,
   "metadata": {
    "collapsed": true
   },
   "outputs": [],
   "source": [
    "svm.LinearSVC"
   ]
  },
  {
   "cell_type": "markdown",
   "metadata": {},
   "source": [
    "http://www.cs.sjsu.edu/~stamp/CS185C/projects/project.html\n",
    "> Then you need to discuss what you plan to do (e.g., what algorithms and packages you'll use, and so on), and you need to tell us where the data will come from, and how you will deal with the data.\n",
    "\n",
    "https://piazza.com/class/jkpence3iqu12p?cid=74\n",
    "> There is no specific length requirement, and quality is much more important than quantity. Be sure to include brief an intro, background, and references sections, and you want to focus on what you did. Include lots of results and be sure to discuss your results."
   ]
  },
  {
   "cell_type": "code",
   "execution_count": null,
   "metadata": {
    "collapsed": true
   },
   "outputs": [],
   "source": []
  },
  {
   "cell_type": "code",
   "execution_count": null,
   "metadata": {
    "collapsed": true
   },
   "outputs": [],
   "source": []
  },
  {
   "cell_type": "code",
   "execution_count": null,
   "metadata": {
    "collapsed": true
   },
   "outputs": [],
   "source": []
  },
  {
   "cell_type": "markdown",
   "metadata": {},
   "source": [
    "processed 160000 articles; 69401 were english; elapsed 752.52 seconds (12.54 minutes)"
   ]
  },
  {
   "cell_type": "code",
   "execution_count": 2,
   "metadata": {},
   "outputs": [
    {
     "name": "stdout",
     "output_type": "stream",
     "text": [
      "remaining: 484.88 (8.08 minutes)\n"
     ]
    }
   ],
   "source": [
    "completed = 160000\n",
    "seconds = 752\n",
    "total = 263166\n",
    "remaining_seconds = seconds/completed * (263166-completed)\n",
    "remaining_minutes = remaining_seconds/60\n",
    "print(f'remaining: {remaining_seconds:.2f} ({remaining_minutes:.2f} minutes)')"
   ]
  },
  {
   "cell_type": "markdown",
   "metadata": {},
   "source": [
    "<a href=\"https://docs.google.com/document/d/1fCMA4DEt7in0N5gmBb-qeeseBp9YSwMYqhLBM4Ebm6E/edit\">\n",
    "    <img src=\"../../images/Google_Docs_Logo.jpg\" style=\"display:inline-block\">\n",
    "    <strong>Final Paper Google Doc</strong></a>  \n",
    "<strong><a href=\"https://73.222.173.223:18646/wiki/index.php/ML-IS_Project\">\n",
    "    <img src=\"../../images/mediawiki.png\" style=\"display:inline-block\">\n",
    "    My Mediawiki MLIS Project page</a></strong>  \n",
    "<a href=\"speaker-facial-recognition.ipynb\">\n",
    "    <strong>Student Speaker on Facial recognition (JN)</strong></a>  \n",
    "\n",
    "\n",
    "\n",
    "<a href=\"https://docs.google.com/document/d/1XvhSQ5zhyLD6te5gOPYvK4DDXqOumTQAGRQAGqiqDLw/edit?usp=sharing\">\n",
    "    <img src=\"../../images/Google_Docs_Logo.jpg\" style=\"display:inline-block\">\n",
    "    Project Proposal Google Doc</a>  \n"
   ]
  },
  {
   "cell_type": "markdown",
   "metadata": {},
   "source": [
    "work in pairs  \n",
    "can work individually. maybe in group of 3 but higher expectations  \n",
    "1-2 treat the same  \n",
    "try to find someone you can work with  \n",
    "good project? he likes to see.. ideal proj.. 2 kinds of projs..  \n",
    "1. take existing data and analyze it with ML techniques. expect at least couple different techniques applied. one we spent a lot of class time on, and one technique we didn't do much in class.\n",
    "2. you collect the data. that's a lot of work. not as high expectations for the analysis on ML side. e.g. student last year in HS (HS students email him to ask to work with him on projects to get to harvard). he had collected some interesting data. footstep sounds of people stepping. computed statistics on them and then used that to train ML models to see if he could distinguish people as a biometric. lots of work on gait recognition but that's visual. his was audio. Stamp says it worked reasonably well.  \n",
    "\n",
    "implementing a research paper? probably too much, more than you can do in a semester. could implement part of it. master students - first thing they often do is to base paper on a previous paper. first check if previous paper is legit - re-implement part of the paper. enough that they're convinced that it works."
   ]
  },
  {
   "cell_type": "markdown",
   "metadata": {},
   "source": [
    "limitations:  \n",
    "if you're taking this class as deep course (166b), expect project to be on security. if you're taking as 185c or grad student, can do whatever you want. "
   ]
  },
  {
   "cell_type": "markdown",
   "metadata": {},
   "source": [
    "last year students tried to predict bitcoin prices.  \n",
    "one student in this class says he has a dataset about gas prices.  "
   ]
  },
  {
   "cell_type": "markdown",
   "metadata": {},
   "source": [
    "have to get professor's approval.  "
   ]
  },
  {
   "cell_type": "markdown",
   "metadata": {},
   "source": [
    "we haven't done much of the class material yet so we have to look ahead to consider the project."
   ]
  },
  {
   "cell_type": "markdown",
   "metadata": {},
   "source": [
    "design the experiment and analyze the data in a reasonable way. that chapter is more focused for his master students."
   ]
  },
  {
   "cell_type": "markdown",
   "metadata": {
    "collapsed": true
   },
   "source": [
    "2018-09-11 11:33:09 AM  \n",
    "likes to see applying 1-2 in-class techniques, e.g. SVM+HMM.  "
   ]
  },
  {
   "cell_type": "markdown",
   "metadata": {},
   "source": [
    "his project grading: he ranks all the projects and grades them in order. they could all end up with As."
   ]
  },
  {
   "cell_type": "markdown",
   "metadata": {},
   "source": [
    "2018-09-13 11:38:50 AM"
   ]
  },
  {
   "cell_type": "markdown",
   "metadata": {},
   "source": [
    "few more project details  "
   ]
  },
  {
   "cell_type": "markdown",
   "metadata": {},
   "source": [
    "apply ML in interesting/challenging application. can come up with something completely different, e.g. GPU HMM and ask permission.  \n",
    "hopefully something novel. not repeating something done 100 times. try to do some new twist etc. maybe Stamp can suggest something when he reads your proposal.  \n",
    "collecting the data can be the main part of the project. but there are already plenty of huge datasets on things like malware.  \n",
    "want to additionally apply the class's techniques to the data. for other class topics like svm/pca, we can use existing standard packages. for hmm we can use Stamp's.  \n",
    "topics are due sep 21st.  \n",
    "sep 25th ppt presentation.  "
   ]
  },
  {
   "cell_type": "markdown",
   "metadata": {},
   "source": [
    "written report due nov 27  \n",
    "looking for quality, not quantity. can be really good 5-page report. don't make 30-page junk. Stamp is our target audience, consider that - don't explain HMM in detail.  "
   ]
  },
  {
   "cell_type": "markdown",
   "metadata": {},
   "source": [
    "# Recommendations from Francisco (Paco) Guzman"
   ]
  },
  {
   "cell_type": "markdown",
   "metadata": {},
   "source": [
    "* reinforcement learning - simulate (simulate what? interests? clicking articles?) - he said it's slow but still recommends trying it\n",
    "* Facebook Horizon\n",
    "* DeepText\n",
    "* PyTorch"
   ]
  },
  {
   "cell_type": "markdown",
   "metadata": {},
   "source": [
    "# Imports"
   ]
  },
  {
   "cell_type": "code",
   "execution_count": 3,
   "metadata": {
    "collapsed": true
   },
   "outputs": [],
   "source": [
    "# conda create -n doc2vec psycopg2 gensim spacy scikit-learn keras plotly"
   ]
  },
  {
   "cell_type": "code",
   "execution_count": 4,
   "metadata": {},
   "outputs": [
    {
     "name": "stdout",
     "output_type": "stream",
     "text": [
      "Object `Doc2Vec` not found.\n"
     ]
    }
   ],
   "source": [
    "Doc2Vec?"
   ]
  },
  {
   "cell_type": "code",
   "execution_count": 5,
   "metadata": {},
   "outputs": [
    {
     "name": "stderr",
     "output_type": "stream",
     "text": [
      "Using TensorFlow backend.\n"
     ]
    }
   ],
   "source": [
    "import os\n",
    "import random\n",
    "import datetime\n",
    "import re\n",
    "from time import time\n",
    "\n",
    "import psycopg2\n",
    "from gensim.models.doc2vec import Doc2Vec, TaggedDocument\n",
    "\n",
    "import numpy as np\n",
    "\n",
    "from gensim.test.utils import get_tmpfile\n",
    "from gensim.test.utils import common_texts\n",
    "from gensim.models.doc2vec import Doc2Vec, TaggedDocument\n",
    "\n",
    "import spacy\n",
    "\n",
    "import keras\n",
    "\n",
    "from sklearn.decomposition import PCA\n",
    "\n",
    "import plotly.plotly as py\n",
    "import plotly.graph_objs as go\n",
    "\n",
    "import matplotlib.pyplot as plt\n",
    "%matplotlib inline\n",
    "\n",
    "from sklearn.model_selection import train_test_split\n",
    "\n",
    "from sklearn import svm\n",
    "\n",
    "import pandas as pd"
   ]
  },
  {
   "cell_type": "markdown",
   "metadata": {},
   "source": [
    "# Helpers"
   ]
  },
  {
   "cell_type": "code",
   "execution_count": 6,
   "metadata": {
    "collapsed": true
   },
   "outputs": [],
   "source": [
    "def ts(message=None):\n",
    "    now = datetime.datetime.now().replace(microsecond=0)\n",
    "    if message:\n",
    "        print(f'{now}: {message}')\n",
    "    else:\n",
    "        print(now)"
   ]
  },
  {
   "cell_type": "code",
   "execution_count": 7,
   "metadata": {
    "collapsed": true
   },
   "outputs": [],
   "source": [
    "def row_to_words(row):\n",
    "    full_text = row[0]\n",
    "    if not full_text:\n",
    "        return None\n",
    "    full_text = full_text.lower()\n",
    "    words = re.findall(r'[\\w]+', full_text, re.I)\n",
    "    return words"
   ]
  },
  {
   "cell_type": "code",
   "execution_count": 8,
   "metadata": {
    "collapsed": true
   },
   "outputs": [],
   "source": [
    "def random_full_text():\n",
    "    conn = random.choice(conns)\n",
    "    cursor = conn.cursor()\n",
    "    cursor.execute(\"\"\"SELECT full_text\n",
    "        from articles\n",
    "        where full_text is not null\n",
    "            and trim(full_text)<>''\n",
    "            and random()<.001\n",
    "        limit 1;\"\"\")\n",
    "\n",
    "    try:\n",
    "        row = next(cursor)\n",
    "    except StopIteration:\n",
    "        return random_full_text()\n",
    "    finally:\n",
    "        cursor.close()\n",
    "\n",
    "    words = row_to_words(row)\n",
    "    if words:\n",
    "        return words\n",
    "    return random_full_text()"
   ]
  },
  {
   "cell_type": "code",
   "execution_count": 9,
   "metadata": {
    "collapsed": true
   },
   "outputs": [],
   "source": [
    "def print_start_time():\n",
    "    print('started {}'.format(datetime.datetime.now()))"
   ]
  },
  {
   "cell_type": "code",
   "execution_count": 13,
   "metadata": {
    "collapsed": true
   },
   "outputs": [],
   "source": [
    "def print_eta(epochs, epoch_eta_minutes):\n",
    "    now = datetime.datetime.now().replace(microsecond=0)\n",
    "    estimated_minutes = epoch_eta_minutes * epochs\n",
    "    eta = now + datetime.timedelta(minutes=estimated_minutes)\n",
    "    print(f'eta: {eta}')\n"
   ]
  },
  {
   "cell_type": "code",
   "execution_count": 14,
   "metadata": {
    "collapsed": true
   },
   "outputs": [],
   "source": [
    "def article_text_for_aid(aid, cursor_chromatic):\n",
    "    cursor_chromatic.execute('select full_text from articles where aid=%(aid)s', vars={'aid': int(aid)})\n",
    "    return cursor_chromatic.fetchone()[0]"
   ]
  },
  {
   "cell_type": "markdown",
   "metadata": {},
   "source": [
    "# Doc2vec"
   ]
  },
  {
   "cell_type": "markdown",
   "metadata": {},
   "source": [
    "## create connections"
   ]
  },
  {
   "cell_type": "code",
   "execution_count": 15,
   "metadata": {
    "collapsed": true
   },
   "outputs": [],
   "source": [
    "if 'conn_doc2vec' not in locals():\n",
    "    conn_doc2vec = psycopg2.connect('postgres://localhost/doc2vec_articles')\n",
    "if 'cursor_doc2vec' not in locals():\n",
    "    cursor_doc2vec = conn_doc2vec.cursor()\n",
    "if 'conn_chromatic' not in locals():\n",
    "    conn_chromatic = psycopg2.connect('postgres://localhost/chromatic')"
   ]
  },
  {
   "cell_type": "markdown",
   "metadata": {},
   "source": [
    "## Define training-data-getter class"
   ]
  },
  {
   "cell_type": "code",
   "execution_count": 16,
   "metadata": {
    "collapsed": true
   },
   "outputs": [],
   "source": [
    "class Documents:\n",
    "    default_connections = [\n",
    "        conn_chromatic,\n",
    "        conn_doc2vec,\n",
    "    ]\n",
    "\n",
    "    def __init__(self):\n",
    "        self.connections = [o for o in self.default_connections]\n",
    "        self.titles = dict()\n",
    "        self.classifications = dict()\n",
    "\n",
    "        self.cursor = None\n",
    "        self._init_next_cursor()\n",
    "\n",
    "        self.docnum = 0\n",
    "\n",
    "    def _init_next_cursor(self):\n",
    "        if self.cursor and not self.cursor.closed:\n",
    "            self.cursor.close()\n",
    "\n",
    "        if not self.connections:\n",
    "            success = False\n",
    "            return success\n",
    "\n",
    "        conn = self.connections.pop()\n",
    "        self.cursor = conn.cursor()\n",
    "        if conn == conn_chromatic:\n",
    "            self.cursor.execute(\"\"\"SELECT\n",
    "                distinct on (title)\n",
    "                    full_text\n",
    "                    , title\n",
    "                    , newsletter_archives.nlaid as class\n",
    "                from articles\n",
    "                    inner join newsletters using(nlid)\n",
    "                    inner join newsletter_archives using(nlaid)\n",
    "                where full_text is not null\n",
    "                    and trim(full_text)<>''\n",
    "            ;\"\"\")\n",
    "        elif conn == conn_doc2vec:\n",
    "            self.cursor.execute(\"\"\"SELECT\n",
    "                    headline_text as full_text\n",
    "                    , '' as title\n",
    "                FROM news_articles\n",
    "                order by id\"\"\")\n",
    "\n",
    "        success = True\n",
    "        return success\n",
    "\n",
    "    def __iter__(self):\n",
    "        self.connections = [o for o in self.default_connections]\n",
    "        self._init_next_cursor()\n",
    "        return self\n",
    "\n",
    "    def __next__(self):\n",
    "        if self.cursor.closed and not self.connections:\n",
    "            raise StopIteration()\n",
    "\n",
    "        try:\n",
    "            row = next(self.cursor)\n",
    "        except StopIteration:\n",
    "            success = self._init_next_cursor()\n",
    "            if not success:\n",
    "                raise\n",
    "            return next(self)\n",
    "\n",
    "        words = row_to_words(row)\n",
    "        if not words:\n",
    "            return next(self)\n",
    "\n",
    "        doc = TaggedDocument(words, [self.docnum])\n",
    "        self.titles[self.docnum] = row[1].strip()\n",
    "#         self.classifications[self.docnum] = row[2]\n",
    "        self.docnum += 1\n",
    "        return doc\n",
    "    next = __next__"
   ]
  },
  {
   "cell_type": "markdown",
   "metadata": {},
   "source": [
    "## load/define model"
   ]
  },
  {
   "cell_type": "code",
   "execution_count": 17,
   "metadata": {},
   "outputs": [
    {
     "name": "stdout",
     "output_type": "stream",
     "text": [
      "my_doc2vec_model\r\n"
     ]
    }
   ],
   "source": [
    "!ls my_doc2vec_model"
   ]
  },
  {
   "cell_type": "code",
   "execution_count": 18,
   "metadata": {},
   "outputs": [
    {
     "name": "stdout",
     "output_type": "stream",
     "text": [
      "2018-11-30 15:00:05: loading model from disk\n",
      "CPU times: user 6.84 s, sys: 1.7 s, total: 8.54 s\n",
      "Wall time: 9.51 s\n"
     ]
    }
   ],
   "source": [
    "%%time\n",
    "if os.path.exists('my_doc2vec_model'):\n",
    "    ts('loading model from disk')\n",
    "    model_d2v = Doc2Vec.load('my_doc2vec_model')\n",
    "else:\n",
    "    ts('initializing model from scratch')\n",
    "    # 2018-11-20 12:40:04 PM\n",
    "    print_start_time()\n",
    "    model_d2v = Doc2Vec(\n",
    "        Documents(),\n",
    "        vector_size=100,\n",
    "        window=5,\n",
    "        # ignore words with frequency less than this\n",
    "        min_count=1,\n",
    "        workers=8,\n",
    "    )"
   ]
  },
  {
   "cell_type": "raw",
   "metadata": {},
   "source": [
    "Wall time: 9.51 s"
   ]
  },
  {
   "cell_type": "code",
   "execution_count": 19,
   "metadata": {},
   "outputs": [
    {
     "data": {
      "text/plain": [
       "19"
      ]
     },
     "execution_count": 19,
     "metadata": {},
     "output_type": "execute_result"
    }
   ],
   "source": [
    "model_d2v.train_count"
   ]
  },
  {
   "cell_type": "markdown",
   "metadata": {},
   "source": [
    "## train model"
   ]
  },
  {
   "cell_type": "markdown",
   "metadata": {},
   "source": [
    "229410 training records"
   ]
  },
  {
   "cell_type": "code",
   "execution_count": 632,
   "metadata": {
    "scrolled": true
   },
   "outputs": [
    {
     "data": {
      "text/plain": [
       "19"
      ]
     },
     "execution_count": 632,
     "metadata": {},
     "output_type": "execute_result"
    }
   ],
   "source": [
    "model_d2v.train_count"
   ]
  },
  {
   "cell_type": "code",
   "execution_count": 529,
   "metadata": {},
   "outputs": [
    {
     "name": "stdout",
     "output_type": "stream",
     "text": [
      "started 2018-11-22 15:13:51.190441\n",
      "eta: 2018-11-22 15:16:21\n",
      "starting epoch 0...finished epoch 0\n",
      "CPU times: user 5min 26s, sys: 14.6 s, total: 5min 40s\n",
      "Wall time: 2min 27s\n"
     ]
    }
   ],
   "source": [
    "%%time\n",
    "epochs = 1\n",
    "\n",
    "print_start_time()\n",
    "print_eta(epochs, epoch_eta_minutes=2.5)\n",
    "\n",
    "for i in range(epochs):\n",
    "    print(f'starting epoch {i}...', end='')\n",
    "    model_d2v.train(Documents(), total_examples=model_d2v.corpus_count, epochs=1)\n",
    "    print(f'finished epoch {i}')"
   ]
  },
  {
   "cell_type": "code",
   "execution_count": 530,
   "metadata": {},
   "outputs": [
    {
     "name": "stdout",
     "output_type": "stream",
     "text": [
      "done at 2018-11-22 15:16:18\n",
      "button returned:OK, gave up:false\n"
     ]
    }
   ],
   "source": [
    "import datetime\n",
    "finish_time = datetime.datetime.now().replace(microsecond=0)\n",
    "print(f'done at {finish_time}')\n",
    "!notify done \"at {finish_time}\"; say done; dialog -t 5 done"
   ]
  },
  {
   "cell_type": "code",
   "execution_count": 531,
   "metadata": {},
   "outputs": [
    {
     "data": {
      "text/plain": [
       "19"
      ]
     },
     "execution_count": 531,
     "metadata": {},
     "output_type": "execute_result"
    }
   ],
   "source": [
    "model_d2v.train_count"
   ]
  },
  {
   "cell_type": "markdown",
   "metadata": {},
   "source": [
    "## save model"
   ]
  },
  {
   "cell_type": "code",
   "execution_count": 532,
   "metadata": {},
   "outputs": [
    {
     "name": "stdout",
     "output_type": "stream",
     "text": [
      "CPU times: user 3.48 s, sys: 2.04 s, total: 5.53 s\n",
      "Wall time: 5.68 s\n"
     ]
    }
   ],
   "source": [
    "%time model_d2v.save('./my_doc2vec_model')\n",
    "# %time model = Doc2Vec.load(fname)  # you can continue training with the loaded model!"
   ]
  },
  {
   "cell_type": "code",
   "execution_count": 398,
   "metadata": {},
   "outputs": [
    {
     "name": "stdout",
     "output_type": "stream",
     "text": [
      "my_doc2vec_model\r\n",
      "my_doc2vec_model.docvecs.vectors_docs.npy\r\n",
      "my_doc2vec_model.trainables.syn1neg.npy\r\n",
      "my_doc2vec_model.wv.vectors.npy\r\n"
     ]
    }
   ],
   "source": [
    "!ls my_*"
   ]
  },
  {
   "cell_type": "markdown",
   "metadata": {},
   "source": [
    "## play around with model"
   ]
  },
  {
   "cell_type": "code",
   "execution_count": 20,
   "metadata": {},
   "outputs": [
    {
     "ename": "NameError",
     "evalue": "name 'documents' is not defined",
     "output_type": "error",
     "traceback": [
      "\u001b[0;31m---------------------------------------------------------------------------\u001b[0m",
      "\u001b[0;31mNameError\u001b[0m                                 Traceback (most recent call last)",
      "\u001b[0;32m<ipython-input-20-762b9b53ec07>\u001b[0m in \u001b[0;36m<module>\u001b[0;34m\u001b[0m\n\u001b[1;32m      1\u001b[0m sorted([\n\u001b[1;32m      2\u001b[0m     \u001b[0mmodel_d2v\u001b[0m\u001b[0;34m.\u001b[0m\u001b[0mdocvecs\u001b[0m\u001b[0;34m.\u001b[0m\u001b[0msimilarity\u001b[0m\u001b[0;34m(\u001b[0m\u001b[0;36m0\u001b[0m\u001b[0;34m,\u001b[0m \u001b[0mi\u001b[0m\u001b[0;34m)\u001b[0m\u001b[0;34m\u001b[0m\u001b[0m\n\u001b[0;32m----> 3\u001b[0;31m     \u001b[0;32mfor\u001b[0m \u001b[0mi\u001b[0m\u001b[0;34m,\u001b[0m \u001b[0m_\u001b[0m \u001b[0;32min\u001b[0m \u001b[0menumerate\u001b[0m\u001b[0;34m(\u001b[0m\u001b[0mdocuments\u001b[0m\u001b[0;34m)\u001b[0m\u001b[0;34m[\u001b[0m\u001b[0;34m:\u001b[0m\u001b[0;36m10\u001b[0m\u001b[0;34m]\u001b[0m\u001b[0;34m\u001b[0m\u001b[0m\n\u001b[0m\u001b[1;32m      4\u001b[0m ])\n",
      "\u001b[0;31mNameError\u001b[0m: name 'documents' is not defined"
     ]
    }
   ],
   "source": [
    "sorted([\n",
    "    model_d2v.docvecs.similarity(0, i)\n",
    "    for i, _ in enumerate(documents)[:10]\n",
    "])"
   ]
  },
  {
   "cell_type": "code",
   "execution_count": 22,
   "metadata": {
    "collapsed": true
   },
   "outputs": [],
   "source": [
    "documents = Documents()"
   ]
  },
  {
   "cell_type": "code",
   "execution_count": null,
   "metadata": {
    "collapsed": true
   },
   "outputs": [],
   "source": [
    "docvector_min = 0\n",
    "docvector_max = 0"
   ]
  },
  {
   "cell_type": "code",
   "execution_count": null,
   "metadata": {
    "collapsed": true
   },
   "outputs": [],
   "source": [
    "docvector_entries_mins = list()\n",
    "docvector_entries_maxs = list()"
   ]
  },
  {
   "cell_type": "code",
   "execution_count": 68,
   "metadata": {
    "collapsed": true
   },
   "outputs": [],
   "source": [
    "docvector_entries = list()"
   ]
  },
  {
   "cell_type": "code",
   "execution_count": 74,
   "metadata": {},
   "outputs": [],
   "source": [
    "for i in range(1000):\n",
    "    docvector_temp = model_d2v.infer_vector(documents.next().words)\n",
    "    docvector_entries_mins.append(docvector_temp.min())\n",
    "    docvector_entries_maxs.append(docvector_temp.max())\n",
    "    docvector_entries.extend(docvector_temp)\n"
   ]
  },
  {
   "cell_type": "code",
   "execution_count": 77,
   "metadata": {},
   "outputs": [
    {
     "data": {
      "image/png": "[encoded data removed]",
      "text/plain": [
       "<Figure size 720x288 with 2 Axes>"
      ]
     },
     "metadata": {
      "needs_background": "light"
     },
     "output_type": "display_data"
    }
   ],
   "source": [
    "fig = plt.figure(figsize=(10, 4))\n",
    "\n",
    "fig.add_subplot(121)\n",
    "plt.hist(docvector_entries_mins, alpha=.8)\n",
    "plt.hist(docvector_entries_maxs, alpha=.8)\n",
    "\n",
    "fig.add_subplot(122)\n",
    "plt.hist(docvector_entries, alpha=.8)\n",
    "None"
   ]
  },
  {
   "cell_type": "markdown",
   "metadata": {},
   "source": [
    "# Synthesize  Chromatic training set"
   ]
  },
  {
   "cell_type": "code",
   "execution_count": 840,
   "metadata": {
    "collapsed": true
   },
   "outputs": [],
   "source": [
    "samples_per_class = 90\n",
    "doc2vec_infer_train_steps = 20"
   ]
  },
  {
   "cell_type": "code",
   "execution_count": 868,
   "metadata": {
    "collapsed": true
   },
   "outputs": [],
   "source": [
    "# # TODO apparently this JN doesn't even use this... but it should.\n",
    "# if 'nlp' not in locals():\n",
    "#     nlp = spacy.load('en')"
   ]
  },
  {
   "cell_type": "code",
   "execution_count": 842,
   "metadata": {
    "collapsed": true
   },
   "outputs": [],
   "source": [
    "if 'cursor_chromatic' not in locals() or cursor_chromatic.closed:\n",
    "    cursor_chromatic = conn_chromatic.cursor()"
   ]
  },
  {
   "cell_type": "code",
   "execution_count": 843,
   "metadata": {
    "collapsed": true
   },
   "outputs": [],
   "source": [
    "# Casual Spectator Sports\n",
    "cursor_chromatic.execute(f\"\"\"\n",
    "    select aid, full_text\n",
    "    from articles\n",
    "    where\n",
    "        nlid in (select nlid from newsletters where nlaid =4)\n",
    "        AND content_matches_nl_topic\n",
    "    limit {samples_per_class}\n",
    "\"\"\")"
   ]
  },
  {
   "cell_type": "code",
   "execution_count": 844,
   "metadata": {
    "collapsed": true
   },
   "outputs": [],
   "source": [
    "docvecs_neg = list()\n",
    "docvecs_neg_aids = list()\n",
    "for row in cursor_chromatic:\n",
    "    docvecs_neg.append(\n",
    "        model_d2v.infer_vector(row[1], steps=doc2vec_infer_train_steps)\n",
    "    )\n",
    "    docvecs_neg_aids.append(row[0])\n",
    "\n",
    "docvecs_neg_aids = np.array(docvecs_neg_aids)\n",
    "docvecs_neg = np.c_[docvecs_neg]"
   ]
  },
  {
   "cell_type": "code",
   "execution_count": 845,
   "metadata": {
    "collapsed": true
   },
   "outputs": [],
   "source": [
    "# Unsupervised Learning Daniel Miessler\n",
    "cursor_chromatic.execute(f\"\"\"\n",
    "    select aid, full_text\n",
    "    from articles\n",
    "    where\n",
    "        nlid in (select nlid from newsletters where nlaid =1)\n",
    "        AND content_matches_nl_topic\n",
    "    limit {samples_per_class}\n",
    "\"\"\")"
   ]
  },
  {
   "cell_type": "code",
   "execution_count": 846,
   "metadata": {
    "collapsed": true
   },
   "outputs": [],
   "source": [
    "docvecs_pos = list()\n",
    "docvecs_pos_aids = list()\n",
    "for row in cursor_chromatic:\n",
    "    docvecs_pos.append(\n",
    "        model_d2v.infer_vector(row[1], steps=doc2vec_infer_train_steps)\n",
    "    )\n",
    "    docvecs_pos_aids.append(row[0])\n",
    "\n",
    "docvecs_pos = np.c_[docvecs_pos]\n",
    "docvecs_pos_aids = np.array(docvecs_pos_aids)"
   ]
  },
  {
   "cell_type": "code",
   "execution_count": 847,
   "metadata": {
    "collapsed": true
   },
   "outputs": [],
   "source": [
    "all_docvecs = np.concatenate([docvecs_pos, docvecs_neg])\n",
    "all_docvecs_aids = np.concatenate((docvecs_pos_aids, docvecs_neg_aids))"
   ]
  },
  {
   "cell_type": "markdown",
   "metadata": {},
   "source": [
    "# Classifiers"
   ]
  },
  {
   "cell_type": "markdown",
   "metadata": {},
   "source": [
    "## SVM"
   ]
  },
  {
   "cell_type": "code",
   "execution_count": 848,
   "metadata": {
    "collapsed": true
   },
   "outputs": [],
   "source": [
    "X = np.concatenate([docvecs_pos, docvecs_neg])\n",
    "y = np.concatenate([len(docvecs_pos)*[+1], len(docvecs_neg)*[0]])"
   ]
  },
  {
   "cell_type": "code",
   "execution_count": 849,
   "metadata": {
    "collapsed": true
   },
   "outputs": [],
   "source": [
    "X_train, X_test, y_train, y_test = train_test_split(X, y, stratify=y, test_size=.2)"
   ]
  },
  {
   "cell_type": "code",
   "execution_count": 891,
   "metadata": {},
   "outputs": [
    {
     "data": {
      "text/html": [
       "<div>\n",
       "<style scoped>\n",
       "    .dataframe tbody tr th:only-of-type {\n",
       "        vertical-align: middle;\n",
       "    }\n",
       "\n",
       "    .dataframe tbody tr th {\n",
       "        vertical-align: top;\n",
       "    }\n",
       "\n",
       "    .dataframe thead th {\n",
       "        text-align: right;\n",
       "    }\n",
       "</style>\n",
       "<table border=\"1\" class=\"dataframe\">\n",
       "  <thead>\n",
       "    <tr style=\"text-align: right;\">\n",
       "      <th></th>\n",
       "      <th>Train</th>\n",
       "      <th>Test</th>\n",
       "    </tr>\n",
       "    <tr>\n",
       "      <th>Label</th>\n",
       "      <th></th>\n",
       "      <th></th>\n",
       "    </tr>\n",
       "  </thead>\n",
       "  <tbody>\n",
       "    <tr>\n",
       "      <th>Positive</th>\n",
       "      <td>72</td>\n",
       "      <td>18</td>\n",
       "    </tr>\n",
       "    <tr>\n",
       "      <th>Negative</th>\n",
       "      <td>72</td>\n",
       "      <td>18</td>\n",
       "    </tr>\n",
       "  </tbody>\n",
       "</table>\n",
       "</div>"
      ],
      "text/plain": [
       "          Train  Test\n",
       "Label                \n",
       "Positive     72    18\n",
       "Negative     72    18"
      ]
     },
     "execution_count": 891,
     "metadata": {},
     "output_type": "execute_result"
    }
   ],
   "source": [
    "pd.DataFrame([\n",
    "    ['Positive', y_train.sum(), y_test.sum()],\n",
    "    ['Negative', abs(y_train-1).sum(), abs(y_test-1).sum()]\n",
    "], columns='Label Train Test'.split()).set_index('Label')"
   ]
  },
  {
   "cell_type": "code",
   "execution_count": 881,
   "metadata": {},
   "outputs": [
    {
     "data": {
      "text/plain": [
       "(144, 36)"
      ]
     },
     "execution_count": 881,
     "metadata": {},
     "output_type": "execute_result"
    }
   ],
   "source": []
  },
  {
   "cell_type": "code",
   "execution_count": null,
   "metadata": {
    "collapsed": true
   },
   "outputs": [],
   "source": [
    "svm.LinearSVC, svm.SVC, svm.NuSVC"
   ]
  },
  {
   "cell_type": "code",
   "execution_count": 850,
   "metadata": {},
   "outputs": [
    {
     "name": "stdout",
     "output_type": "stream",
     "text": [
      "CPU times: user 77.8 ms, sys: 1.91 ms, total: 79.7 ms\n",
      "Wall time: 42.4 ms\n"
     ]
    },
    {
     "name": "stderr",
     "output_type": "stream",
     "text": [
      "/Users/mica/anaconda3/envs/doc2vec/lib/python3.6/site-packages/sklearn/svm/base.py:922: ConvergenceWarning:\n",
      "\n",
      "Liblinear failed to converge, increase the number of iterations.\n",
      "\n",
      "/Users/mica/anaconda3/envs/doc2vec/lib/python3.6/site-packages/sklearn/svm/base.py:196: FutureWarning:\n",
      "\n",
      "The default value of gamma will change from 'auto' to 'scale' in version 0.22 to account better for unscaled features. Set gamma explicitly to 'auto' or 'scale' to avoid this warning.\n",
      "\n",
      "/Users/mica/anaconda3/envs/doc2vec/lib/python3.6/site-packages/sklearn/svm/base.py:196: FutureWarning:\n",
      "\n",
      "The default value of gamma will change from 'auto' to 'scale' in version 0.22 to account better for unscaled features. Set gamma explicitly to 'auto' or 'scale' to avoid this warning.\n",
      "\n"
     ]
    }
   ],
   "source": [
    "%%time\n",
    "model_str_length = 10\n",
    "results = list()\n",
    "for cls in (svm.LinearSVC, svm.SVC, svm.NuSVC):\n",
    "    svc = cls()\n",
    "\n",
    "    svc.fit(\n",
    "        X=X_train,\n",
    "        y=y_train,\n",
    "    )\n",
    "    results.append((\n",
    "        cls.__name__,\n",
    "        svc.score(X_train, y_train),\n",
    "        svc.score(X_test, y_test),\n",
    "    ))"
   ]
  },
  {
   "cell_type": "code",
   "execution_count": 851,
   "metadata": {
    "scrolled": false
   },
   "outputs": [
    {
     "data": {
      "text/html": [
       "<div>\n",
       "<style scoped>\n",
       "    .dataframe tbody tr th:only-of-type {\n",
       "        vertical-align: middle;\n",
       "    }\n",
       "\n",
       "    .dataframe tbody tr th {\n",
       "        vertical-align: top;\n",
       "    }\n",
       "\n",
       "    .dataframe thead th {\n",
       "        text-align: right;\n",
       "    }\n",
       "</style>\n",
       "<table border=\"1\" class=\"dataframe\">\n",
       "  <thead>\n",
       "    <tr style=\"text-align: right;\">\n",
       "      <th></th>\n",
       "      <th>Train Accuracy</th>\n",
       "      <th>Test Accuracy</th>\n",
       "    </tr>\n",
       "    <tr>\n",
       "      <th>Model</th>\n",
       "      <th></th>\n",
       "      <th></th>\n",
       "    </tr>\n",
       "  </thead>\n",
       "  <tbody>\n",
       "    <tr>\n",
       "      <th>LinearSVC</th>\n",
       "      <td>0.993056</td>\n",
       "      <td>0.805556</td>\n",
       "    </tr>\n",
       "    <tr>\n",
       "      <th>SVC</th>\n",
       "      <td>0.812500</td>\n",
       "      <td>0.833333</td>\n",
       "    </tr>\n",
       "    <tr>\n",
       "      <th>NuSVC</th>\n",
       "      <td>0.951389</td>\n",
       "      <td>0.861111</td>\n",
       "    </tr>\n",
       "  </tbody>\n",
       "</table>\n",
       "</div>"
      ],
      "text/plain": [
       "           Train Accuracy  Test Accuracy\n",
       "Model                                   \n",
       "LinearSVC        0.993056       0.805556\n",
       "SVC              0.812500       0.833333\n",
       "NuSVC            0.951389       0.861111"
      ]
     },
     "execution_count": 851,
     "metadata": {},
     "output_type": "execute_result"
    }
   ],
   "source": [
    "pd.DataFrame(results, columns=['Model', 'Train Accuracy', 'Test Accuracy']).set_index('Model')"
   ]
  },
  {
   "cell_type": "markdown",
   "metadata": {},
   "source": [
    "## Keras"
   ]
  },
  {
   "cell_type": "code",
   "execution_count": 825,
   "metadata": {
    "collapsed": true
   },
   "outputs": [],
   "source": [
    "class LossHistory(keras.callbacks.Callback):\n",
    "    # https://keras.io/callbacks/#example-recording-loss-history\n",
    "    def on_train_begin(self, logs=dict()):\n",
    "        self.losses = list()\n",
    "        self.accuracies = list()\n",
    "        self.val_accs = list()\n",
    "\n",
    "    def on_epoch_end(self, batch, logs=dict()):\n",
    "        self.losses.append(logs.get('loss'))\n",
    "        self.accuracies.append(logs.get('acc'))\n",
    "        val_loss, val_acc = dnn.evaluate(X_test, y_test)\n",
    "        self.val_accs.append(val_acc)\n"
   ]
  },
  {
   "cell_type": "code",
   "execution_count": 877,
   "metadata": {
    "scrolled": true
   },
   "outputs": [
    {
     "name": "stdout",
     "output_type": "stream",
     "text": [
      "Train on 144 samples, validate on 36 samples\n",
      "Epoch 1/300\n",
      "144/144 [==============================] - 3s 18ms/step - loss: 0.7050 - acc: 0.4722 - val_loss: 0.6918 - val_acc: 0.5000\n",
      "36/36 [==============================] - 0s 159us/step\n",
      "Epoch 2/300\n",
      "144/144 [==============================] - 0s 159us/step - loss: 0.6908 - acc: 0.5278 - val_loss: 0.6831 - val_acc: 0.6389\n",
      "36/36 [==============================] - 0s 150us/step\n",
      "Epoch 3/300\n",
      "144/144 [==============================] - 0s 172us/step - loss: 0.6835 - acc: 0.6181 - val_loss: 0.6774 - val_acc: 0.5833\n",
      "36/36 [==============================] - 0s 130us/step\n",
      "Epoch 4/300\n",
      "144/144 [==============================] - 0s 164us/step - loss: 0.6840 - acc: 0.5000 - val_loss: 0.6890 - val_acc: 0.5000\n",
      "36/36 [==============================] - 0s 160us/step\n",
      "Epoch 5/300\n",
      "144/144 [==============================] - 0s 167us/step - loss: 0.6837 - acc: 0.5069 - val_loss: 0.6673 - val_acc: 0.7778\n",
      "36/36 [==============================] - 0s 173us/step\n",
      "Epoch 6/300\n",
      "144/144 [==============================] - 0s 165us/step - loss: 0.6735 - acc: 0.6111 - val_loss: 0.6604 - val_acc: 0.7222\n",
      "36/36 [==============================] - 0s 211us/step\n",
      "Epoch 7/300\n",
      "144/144 [==============================] - 0s 179us/step - loss: 0.6611 - acc: 0.7222 - val_loss: 0.6542 - val_acc: 0.5833\n",
      "36/36 [==============================] - 0s 157us/step\n",
      "Epoch 8/300\n",
      "144/144 [==============================] - 0s 157us/step - loss: 0.6617 - acc: 0.6389 - val_loss: 0.6483 - val_acc: 0.6944\n",
      "36/36 [==============================] - 0s 149us/step\n",
      "Epoch 9/300\n",
      "144/144 [==============================] - 0s 165us/step - loss: 0.6530 - acc: 0.6667 - val_loss: 0.6478 - val_acc: 0.6111\n",
      "36/36 [==============================] - 0s 163us/step\n",
      "Epoch 10/300\n",
      "144/144 [==============================] - 0s 185us/step - loss: 0.6519 - acc: 0.6528 - val_loss: 0.6295 - val_acc: 0.7222\n",
      "36/36 [==============================] - 0s 143us/step\n",
      "Epoch 11/300\n",
      "144/144 [==============================] - 0s 175us/step - loss: 0.6305 - acc: 0.7292 - val_loss: 0.6298 - val_acc: 0.6944\n",
      "36/36 [==============================] - 0s 143us/step\n",
      "Epoch 12/300\n",
      "144/144 [==============================] - 0s 154us/step - loss: 0.6280 - acc: 0.7083 - val_loss: 0.6182 - val_acc: 0.6944\n",
      "36/36 [==============================] - 0s 91us/step\n",
      "Epoch 13/300\n",
      "144/144 [==============================] - 0s 142us/step - loss: 0.6175 - acc: 0.7569 - val_loss: 0.6025 - val_acc: 0.8333\n",
      "36/36 [==============================] - 0s 153us/step\n",
      "Epoch 14/300\n",
      "144/144 [==============================] - 0s 130us/step - loss: 0.6141 - acc: 0.7292 - val_loss: 0.5935 - val_acc: 0.8333\n",
      "36/36 [==============================] - 0s 122us/step\n",
      "Epoch 15/300\n",
      "144/144 [==============================] - 0s 139us/step - loss: 0.6039 - acc: 0.7500 - val_loss: 0.5935 - val_acc: 0.6944\n",
      "36/36 [==============================] - 0s 171us/step\n",
      "Epoch 16/300\n",
      "144/144 [==============================] - 0s 124us/step - loss: 0.5897 - acc: 0.7639 - val_loss: 0.5886 - val_acc: 0.7222\n",
      "36/36 [==============================] - 0s 118us/step\n",
      "Epoch 17/300\n",
      "144/144 [==============================] - 0s 147us/step - loss: 0.5875 - acc: 0.7639 - val_loss: 0.5642 - val_acc: 0.8611\n",
      "36/36 [==============================] - 0s 158us/step\n",
      "Epoch 18/300\n",
      "144/144 [==============================] - 0s 167us/step - loss: 0.5763 - acc: 0.7778 - val_loss: 0.5542 - val_acc: 0.8611\n",
      "36/36 [==============================] - 0s 167us/step\n",
      "Epoch 19/300\n",
      "144/144 [==============================] - 0s 155us/step - loss: 0.5771 - acc: 0.7847 - val_loss: 0.5596 - val_acc: 0.8056\n",
      "36/36 [==============================] - 0s 171us/step\n",
      "Epoch 20/300\n",
      "144/144 [==============================] - 0s 154us/step - loss: 0.5653 - acc: 0.7847 - val_loss: 0.5405 - val_acc: 0.9444\n",
      "36/36 [==============================] - 0s 185us/step\n",
      "Epoch 21/300\n",
      "144/144 [==============================] - 0s 152us/step - loss: 0.5552 - acc: 0.7847 - val_loss: 0.5358 - val_acc: 0.8056\n",
      "36/36 [==============================] - 0s 155us/step\n",
      "Epoch 22/300\n",
      "144/144 [==============================] - 0s 148us/step - loss: 0.5603 - acc: 0.7431 - val_loss: 0.5197 - val_acc: 0.8611\n",
      "36/36 [==============================] - 0s 152us/step\n",
      "Epoch 23/300\n",
      "144/144 [==============================] - 0s 152us/step - loss: 0.5378 - acc: 0.8125 - val_loss: 0.5358 - val_acc: 0.7778\n",
      "36/36 [==============================] - 0s 158us/step\n",
      "Epoch 24/300\n",
      "144/144 [==============================] - 0s 141us/step - loss: 0.5426 - acc: 0.7708 - val_loss: 0.5053 - val_acc: 0.8611\n",
      "36/36 [==============================] - 0s 210us/step\n",
      "Epoch 25/300\n",
      "144/144 [==============================] - 0s 133us/step - loss: 0.5312 - acc: 0.7917 - val_loss: 0.5092 - val_acc: 0.8333\n",
      "36/36 [==============================] - 0s 165us/step\n",
      "Epoch 26/300\n",
      "144/144 [==============================] - 0s 167us/step - loss: 0.5196 - acc: 0.7778 - val_loss: 0.4946 - val_acc: 0.8333\n",
      "36/36 [==============================] - 0s 157us/step\n",
      "Epoch 27/300\n",
      "144/144 [==============================] - 0s 155us/step - loss: 0.5239 - acc: 0.7778 - val_loss: 0.4788 - val_acc: 0.9167\n",
      "36/36 [==============================] - 0s 147us/step\n",
      "Epoch 28/300\n",
      "144/144 [==============================] - 0s 171us/step - loss: 0.5131 - acc: 0.7847 - val_loss: 0.4850 - val_acc: 0.8056\n",
      "36/36 [==============================] - 0s 183us/step\n",
      "Epoch 29/300\n",
      "144/144 [==============================] - 0s 123us/step - loss: 0.5071 - acc: 0.7847 - val_loss: 0.4718 - val_acc: 0.9444\n",
      "36/36 [==============================] - 0s 138us/step\n",
      "Epoch 30/300\n",
      "144/144 [==============================] - 0s 149us/step - loss: 0.4950 - acc: 0.7917 - val_loss: 0.4654 - val_acc: 0.8611\n",
      "36/36 [==============================] - 0s 164us/step\n",
      "Epoch 31/300\n",
      "144/144 [==============================] - 0s 155us/step - loss: 0.4965 - acc: 0.8056 - val_loss: 0.4526 - val_acc: 0.9444\n",
      "36/36 [==============================] - 0s 178us/step\n",
      "Epoch 32/300\n",
      "144/144 [==============================] - 0s 145us/step - loss: 0.4855 - acc: 0.7986 - val_loss: 0.4505 - val_acc: 0.8611\n",
      "36/36 [==============================] - 0s 134us/step\n",
      "Epoch 33/300\n",
      "144/144 [==============================] - 0s 147us/step - loss: 0.4818 - acc: 0.7986 - val_loss: 0.4524 - val_acc: 0.8611\n",
      "36/36 [==============================] - 0s 152us/step\n",
      "Epoch 34/300\n",
      "144/144 [==============================] - 0s 148us/step - loss: 0.4767 - acc: 0.7917 - val_loss: 0.4352 - val_acc: 0.9444\n",
      "36/36 [==============================] - 0s 171us/step\n",
      "Epoch 35/300\n",
      "144/144 [==============================] - 0s 155us/step - loss: 0.4829 - acc: 0.7847 - val_loss: 0.4609 - val_acc: 0.8056\n",
      "36/36 [==============================] - 0s 158us/step\n",
      "Epoch 36/300\n",
      "144/144 [==============================] - 0s 164us/step - loss: 0.4741 - acc: 0.7917 - val_loss: 0.4791 - val_acc: 0.8056\n",
      "36/36 [==============================] - 0s 181us/step\n",
      "Epoch 37/300\n",
      "144/144 [==============================] - 0s 148us/step - loss: 0.4735 - acc: 0.7847 - val_loss: 0.4251 - val_acc: 0.8611\n",
      "36/36 [==============================] - 0s 160us/step\n",
      "Epoch 38/300\n",
      "144/144 [==============================] - 0s 162us/step - loss: 0.4605 - acc: 0.8125 - val_loss: 0.4179 - val_acc: 0.8611\n",
      "36/36 [==============================] - 0s 180us/step\n",
      "Epoch 39/300\n",
      "144/144 [==============================] - 0s 161us/step - loss: 0.4592 - acc: 0.8125 - val_loss: 0.4132 - val_acc: 0.9444\n",
      "36/36 [==============================] - 0s 152us/step\n",
      "Epoch 40/300\n",
      "144/144 [==============================] - 0s 156us/step - loss: 0.4570 - acc: 0.7847 - val_loss: 0.4115 - val_acc: 0.8611\n",
      "36/36 [==============================] - 0s 161us/step\n",
      "Epoch 41/300\n",
      "144/144 [==============================] - 0s 175us/step - loss: 0.4505 - acc: 0.8125 - val_loss: 0.4107 - val_acc: 0.8611\n",
      "36/36 [==============================] - 0s 167us/step\n",
      "Epoch 42/300\n",
      "144/144 [==============================] - 0s 172us/step - loss: 0.4513 - acc: 0.8056 - val_loss: 0.4180 - val_acc: 0.9444\n",
      "36/36 [==============================] - 0s 163us/step\n",
      "Epoch 43/300\n",
      "144/144 [==============================] - 0s 161us/step - loss: 0.4666 - acc: 0.7847 - val_loss: 0.4194 - val_acc: 0.8333\n",
      "36/36 [==============================] - 0s 158us/step\n",
      "Epoch 44/300\n",
      "144/144 [==============================] - 0s 174us/step - loss: 0.4438 - acc: 0.7917 - val_loss: 0.3942 - val_acc: 0.8889\n",
      "36/36 [==============================] - 0s 149us/step\n",
      "Epoch 45/300\n",
      "144/144 [==============================] - 0s 136us/step - loss: 0.4463 - acc: 0.8056 - val_loss: 0.3944 - val_acc: 0.8611\n",
      "36/36 [==============================] - 0s 207us/step\n",
      "Epoch 46/300\n",
      "144/144 [==============================] - 0s 134us/step - loss: 0.4401 - acc: 0.8194 - val_loss: 0.3865 - val_acc: 0.9167\n",
      "36/36 [==============================] - 0s 140us/step\n",
      "Epoch 47/300\n",
      "144/144 [==============================] - 0s 181us/step - loss: 0.4387 - acc: 0.8194 - val_loss: 0.3853 - val_acc: 0.8611\n",
      "36/36 [==============================] - 0s 180us/step\n",
      "Epoch 48/300\n",
      "144/144 [==============================] - 0s 168us/step - loss: 0.4492 - acc: 0.8125 - val_loss: 0.4132 - val_acc: 0.8611\n",
      "36/36 [==============================] - 0s 177us/step\n",
      "Epoch 49/300\n",
      "144/144 [==============================] - 0s 168us/step - loss: 0.4348 - acc: 0.8056 - val_loss: 0.3803 - val_acc: 0.9444\n",
      "36/36 [==============================] - 0s 180us/step\n",
      "Epoch 50/300\n",
      "144/144 [==============================] - 0s 253us/step - loss: 0.4362 - acc: 0.8125 - val_loss: 0.3817 - val_acc: 0.9444\n",
      "36/36 [==============================] - 0s 234us/step\n",
      "Epoch 51/300\n",
      "144/144 [==============================] - 0s 205us/step - loss: 0.4283 - acc: 0.8125 - val_loss: 0.3789 - val_acc: 0.8611\n",
      "36/36 [==============================] - 0s 189us/step\n",
      "Epoch 52/300\n",
      "144/144 [==============================] - 0s 186us/step - loss: 0.4234 - acc: 0.8194 - val_loss: 0.3724 - val_acc: 0.8889\n",
      "36/36 [==============================] - 0s 183us/step\n",
      "Epoch 53/300\n",
      " 32/144 [=====>........................] - ETA: 0s - loss: 0.3918 - acc: 0.9062"
     ]
    },
    {
     "ename": "KeyboardInterrupt",
     "evalue": "",
     "output_type": "error",
     "traceback": [
      "\u001b[0;31m---------------------------------------------------------------------------\u001b[0m",
      "\u001b[0;31mKeyboardInterrupt\u001b[0m                         Traceback (most recent call last)",
      "\u001b[0;32m<ipython-input-877-459a57bae9be>\u001b[0m in \u001b[0;36m<module>\u001b[0;34m\u001b[0m\n\u001b[1;32m     19\u001b[0m     \u001b[0mvalidation_data\u001b[0m\u001b[0;34m=\u001b[0m\u001b[0;34m[\u001b[0m\u001b[0mX_test\u001b[0m\u001b[0;34m,\u001b[0m \u001b[0my_test\u001b[0m\u001b[0;34m]\u001b[0m\u001b[0;34m,\u001b[0m\u001b[0;34m\u001b[0m\u001b[0m\n\u001b[1;32m     20\u001b[0m     \u001b[0mepochs\u001b[0m\u001b[0;34m=\u001b[0m\u001b[0mdnn_epochs\u001b[0m\u001b[0;34m,\u001b[0m\u001b[0;34m\u001b[0m\u001b[0m\n\u001b[0;32m---> 21\u001b[0;31m     \u001b[0mcallbacks\u001b[0m\u001b[0;34m=\u001b[0m\u001b[0;34m[\u001b[0m\u001b[0mhistory\u001b[0m\u001b[0;34m]\u001b[0m\u001b[0;34m,\u001b[0m\u001b[0;34m\u001b[0m\u001b[0m\n\u001b[0m\u001b[1;32m     22\u001b[0m )\n",
      "\u001b[0;32m~/anaconda3/envs/doc2vec/lib/python3.6/site-packages/keras/engine/training.py\u001b[0m in \u001b[0;36mfit\u001b[0;34m(self, x, y, batch_size, epochs, verbose, callbacks, validation_split, validation_data, shuffle, class_weight, sample_weight, initial_epoch, steps_per_epoch, validation_steps, **kwargs)\u001b[0m\n\u001b[1;32m   1037\u001b[0m                                         \u001b[0minitial_epoch\u001b[0m\u001b[0;34m=\u001b[0m\u001b[0minitial_epoch\u001b[0m\u001b[0;34m,\u001b[0m\u001b[0;34m\u001b[0m\u001b[0m\n\u001b[1;32m   1038\u001b[0m                                         \u001b[0msteps_per_epoch\u001b[0m\u001b[0;34m=\u001b[0m\u001b[0msteps_per_epoch\u001b[0m\u001b[0;34m,\u001b[0m\u001b[0;34m\u001b[0m\u001b[0m\n\u001b[0;32m-> 1039\u001b[0;31m                                         validation_steps=validation_steps)\n\u001b[0m\u001b[1;32m   1040\u001b[0m \u001b[0;34m\u001b[0m\u001b[0m\n\u001b[1;32m   1041\u001b[0m     def evaluate(self, x=None, y=None,\n",
      "\u001b[0;32m~/anaconda3/envs/doc2vec/lib/python3.6/site-packages/keras/engine/training_arrays.py\u001b[0m in \u001b[0;36mfit_loop\u001b[0;34m(model, f, ins, out_labels, batch_size, epochs, verbose, callbacks, val_f, val_ins, shuffle, callback_metrics, initial_epoch, steps_per_epoch, validation_steps)\u001b[0m\n\u001b[1;32m    210\u001b[0m                         val_outs = test_loop(model, val_f, val_ins,\n\u001b[1;32m    211\u001b[0m                                              \u001b[0mbatch_size\u001b[0m\u001b[0;34m=\u001b[0m\u001b[0mbatch_size\u001b[0m\u001b[0;34m,\u001b[0m\u001b[0;34m\u001b[0m\u001b[0m\n\u001b[0;32m--> 212\u001b[0;31m                                              verbose=0)\n\u001b[0m\u001b[1;32m    213\u001b[0m                         \u001b[0mval_outs\u001b[0m \u001b[0;34m=\u001b[0m \u001b[0mto_list\u001b[0m\u001b[0;34m(\u001b[0m\u001b[0mval_outs\u001b[0m\u001b[0;34m)\u001b[0m\u001b[0;34m\u001b[0m\u001b[0m\n\u001b[1;32m    214\u001b[0m                         \u001b[0;31m# Same labels assumed.\u001b[0m\u001b[0;34m\u001b[0m\u001b[0;34m\u001b[0m\u001b[0m\n",
      "\u001b[0;32m~/anaconda3/envs/doc2vec/lib/python3.6/site-packages/keras/engine/training_arrays.py\u001b[0m in \u001b[0;36mtest_loop\u001b[0;34m(model, f, ins, batch_size, verbose, steps)\u001b[0m\n\u001b[1;32m    390\u001b[0m                 \u001b[0mins_batch\u001b[0m\u001b[0;34m[\u001b[0m\u001b[0mi\u001b[0m\u001b[0;34m]\u001b[0m \u001b[0;34m=\u001b[0m \u001b[0mins_batch\u001b[0m\u001b[0;34m[\u001b[0m\u001b[0mi\u001b[0m\u001b[0;34m]\u001b[0m\u001b[0;34m.\u001b[0m\u001b[0mtoarray\u001b[0m\u001b[0;34m(\u001b[0m\u001b[0;34m)\u001b[0m\u001b[0;34m\u001b[0m\u001b[0m\n\u001b[1;32m    391\u001b[0m \u001b[0;34m\u001b[0m\u001b[0m\n\u001b[0;32m--> 392\u001b[0;31m             \u001b[0mbatch_outs\u001b[0m \u001b[0;34m=\u001b[0m \u001b[0mf\u001b[0m\u001b[0;34m(\u001b[0m\u001b[0mins_batch\u001b[0m\u001b[0;34m)\u001b[0m\u001b[0;34m\u001b[0m\u001b[0m\n\u001b[0m\u001b[1;32m    393\u001b[0m             \u001b[0;32mif\u001b[0m \u001b[0misinstance\u001b[0m\u001b[0;34m(\u001b[0m\u001b[0mbatch_outs\u001b[0m\u001b[0;34m,\u001b[0m \u001b[0mlist\u001b[0m\u001b[0;34m)\u001b[0m\u001b[0;34m:\u001b[0m\u001b[0;34m\u001b[0m\u001b[0m\n\u001b[1;32m    394\u001b[0m                 \u001b[0;32mif\u001b[0m \u001b[0mbatch_index\u001b[0m \u001b[0;34m==\u001b[0m \u001b[0;36m0\u001b[0m\u001b[0;34m:\u001b[0m\u001b[0;34m\u001b[0m\u001b[0m\n",
      "\u001b[0;32m~/anaconda3/envs/doc2vec/lib/python3.6/site-packages/keras/backend/tensorflow_backend.py\u001b[0m in \u001b[0;36m__call__\u001b[0;34m(self, inputs)\u001b[0m\n\u001b[1;32m   2713\u001b[0m                 \u001b[0;32mreturn\u001b[0m \u001b[0mself\u001b[0m\u001b[0;34m.\u001b[0m\u001b[0m_legacy_call\u001b[0m\u001b[0;34m(\u001b[0m\u001b[0minputs\u001b[0m\u001b[0;34m)\u001b[0m\u001b[0;34m\u001b[0m\u001b[0m\n\u001b[1;32m   2714\u001b[0m \u001b[0;34m\u001b[0m\u001b[0m\n\u001b[0;32m-> 2715\u001b[0;31m             \u001b[0;32mreturn\u001b[0m \u001b[0mself\u001b[0m\u001b[0;34m.\u001b[0m\u001b[0m_call\u001b[0m\u001b[0;34m(\u001b[0m\u001b[0minputs\u001b[0m\u001b[0;34m)\u001b[0m\u001b[0;34m\u001b[0m\u001b[0m\n\u001b[0m\u001b[1;32m   2716\u001b[0m         \u001b[0;32melse\u001b[0m\u001b[0;34m:\u001b[0m\u001b[0;34m\u001b[0m\u001b[0m\n\u001b[1;32m   2717\u001b[0m             \u001b[0;32mif\u001b[0m \u001b[0mpy_any\u001b[0m\u001b[0;34m(\u001b[0m\u001b[0mis_tensor\u001b[0m\u001b[0;34m(\u001b[0m\u001b[0mx\u001b[0m\u001b[0;34m)\u001b[0m \u001b[0;32mfor\u001b[0m \u001b[0mx\u001b[0m \u001b[0;32min\u001b[0m \u001b[0minputs\u001b[0m\u001b[0;34m)\u001b[0m\u001b[0;34m:\u001b[0m\u001b[0;34m\u001b[0m\u001b[0m\n",
      "\u001b[0;32m~/anaconda3/envs/doc2vec/lib/python3.6/site-packages/keras/backend/tensorflow_backend.py\u001b[0m in \u001b[0;36m_call\u001b[0;34m(self, inputs)\u001b[0m\n\u001b[1;32m   2673\u001b[0m             \u001b[0mfetched\u001b[0m \u001b[0;34m=\u001b[0m \u001b[0mself\u001b[0m\u001b[0;34m.\u001b[0m\u001b[0m_callable_fn\u001b[0m\u001b[0;34m(\u001b[0m\u001b[0;34m*\u001b[0m\u001b[0marray_vals\u001b[0m\u001b[0;34m,\u001b[0m \u001b[0mrun_metadata\u001b[0m\u001b[0;34m=\u001b[0m\u001b[0mself\u001b[0m\u001b[0;34m.\u001b[0m\u001b[0mrun_metadata\u001b[0m\u001b[0;34m)\u001b[0m\u001b[0;34m\u001b[0m\u001b[0m\n\u001b[1;32m   2674\u001b[0m         \u001b[0;32melse\u001b[0m\u001b[0;34m:\u001b[0m\u001b[0;34m\u001b[0m\u001b[0m\n\u001b[0;32m-> 2675\u001b[0;31m             \u001b[0mfetched\u001b[0m \u001b[0;34m=\u001b[0m \u001b[0mself\u001b[0m\u001b[0;34m.\u001b[0m\u001b[0m_callable_fn\u001b[0m\u001b[0;34m(\u001b[0m\u001b[0;34m*\u001b[0m\u001b[0marray_vals\u001b[0m\u001b[0;34m)\u001b[0m\u001b[0;34m\u001b[0m\u001b[0m\n\u001b[0m\u001b[1;32m   2676\u001b[0m         \u001b[0;32mreturn\u001b[0m \u001b[0mfetched\u001b[0m\u001b[0;34m[\u001b[0m\u001b[0;34m:\u001b[0m\u001b[0mlen\u001b[0m\u001b[0;34m(\u001b[0m\u001b[0mself\u001b[0m\u001b[0;34m.\u001b[0m\u001b[0moutputs\u001b[0m\u001b[0;34m)\u001b[0m\u001b[0;34m]\u001b[0m\u001b[0;34m\u001b[0m\u001b[0m\n\u001b[1;32m   2677\u001b[0m \u001b[0;34m\u001b[0m\u001b[0m\n",
      "\u001b[0;32m~/anaconda3/envs/doc2vec/lib/python3.6/site-packages/tensorflow/python/client/session.py\u001b[0m in \u001b[0;36m__call__\u001b[0;34m(self, *args, **kwargs)\u001b[0m\n\u001b[1;32m   1380\u001b[0m           ret = tf_session.TF_SessionRunCallable(\n\u001b[1;32m   1381\u001b[0m               \u001b[0mself\u001b[0m\u001b[0;34m.\u001b[0m\u001b[0m_session\u001b[0m\u001b[0;34m.\u001b[0m\u001b[0m_session\u001b[0m\u001b[0;34m,\u001b[0m \u001b[0mself\u001b[0m\u001b[0;34m.\u001b[0m\u001b[0m_handle\u001b[0m\u001b[0;34m,\u001b[0m \u001b[0margs\u001b[0m\u001b[0;34m,\u001b[0m \u001b[0mstatus\u001b[0m\u001b[0;34m,\u001b[0m\u001b[0;34m\u001b[0m\u001b[0m\n\u001b[0;32m-> 1382\u001b[0;31m               run_metadata_ptr)\n\u001b[0m\u001b[1;32m   1383\u001b[0m         \u001b[0;32mif\u001b[0m \u001b[0mrun_metadata\u001b[0m\u001b[0;34m:\u001b[0m\u001b[0;34m\u001b[0m\u001b[0m\n\u001b[1;32m   1384\u001b[0m           \u001b[0mproto_data\u001b[0m \u001b[0;34m=\u001b[0m \u001b[0mtf_session\u001b[0m\u001b[0;34m.\u001b[0m\u001b[0mTF_GetBuffer\u001b[0m\u001b[0;34m(\u001b[0m\u001b[0mrun_metadata_ptr\u001b[0m\u001b[0;34m)\u001b[0m\u001b[0;34m\u001b[0m\u001b[0m\n",
      "\u001b[0;31mKeyboardInterrupt\u001b[0m: "
     ]
    }
   ],
   "source": [
    "dnn_epochs = 300\n",
    "\n",
    "dnn = keras.Sequential()\n",
    "dnn.add(keras.layers.Dense(10, input_dim=X.shape[1], activation='relu'))\n",
    "# dnn.add(keras.layers.Dense(10, activation='sigmoid'))\n",
    "# dnn.add(keras.layers.Dense(10, activation='relu'))\n",
    "dnn.add(keras.layers.Dense(30, activation='sigmoid'))\n",
    "dnn.add(keras.layers.Dense(30, activation='sigmoid'))\n",
    "dnn.add(keras.layers.Dense(1, activation='sigmoid'))\n",
    "\n",
    "dnn.compile(\n",
    "    keras.optimizers.Adagrad(),\n",
    "    loss=keras.losses.binary_crossentropy,\n",
    "    metrics=['accuracy'],\n",
    ")\n",
    "history = LossHistory()\n",
    "dnn.fit(\n",
    "    X_train, y_train,\n",
    "    validation_data=[X_test, y_test],\n",
    "    epochs=dnn_epochs,\n",
    "    callbacks=[history],\n",
    ")\n"
   ]
  },
  {
   "cell_type": "code",
   "execution_count": 80,
   "metadata": {},
   "outputs": [
    {
     "name": "stdout",
     "output_type": "stream",
     "text": [
      "204K\t./ML Project Chromatic News.ipynb\r\n",
      "1.5M\t./lda2vec.ipynb\r\n"
     ]
    }
   ],
   "source": [
    "!du -hs ./ML\\ Project\\ Chromatic\\ News.ipynb ./lda2vec.ipynb"
   ]
  },
  {
   "cell_type": "code",
   "execution_count": 878,
   "metadata": {},
   "outputs": [
    {
     "name": "stdout",
     "output_type": "stream",
     "text": [
      "testing accuracy   : 0.785%\n",
      "validation accuracy: 0.861%\n"
     ]
    },
    {
     "data": {
      "image/png": "[encoded data removed]",
      "text/plain": [
       "<Figure size 1080x360 with 2 Axes>"
      ]
     },
     "metadata": {
      "needs_background": "light"
     },
     "output_type": "display_data"
    }
   ],
   "source": [
    "fig = plt.figure(figsize=(15, 5))\n",
    "fig.add_subplot(121)\n",
    "if True:\n",
    "    losses = history.losses\n",
    "    plt.plot(\n",
    "        list(range(len(losses))),\n",
    "        losses,\n",
    "        label='total loss',\n",
    "    )\n",
    "    plt.legend()\n",
    "    plt.title('training loss')\n",
    "    plt.xlabel('training epoch')\n",
    "    plt.ylabel('training loss')\n",
    "    _, t = plt.ylim()\n",
    "    plt.ylim((0, t))\n",
    "\n",
    "fig.add_subplot(122)\n",
    "if True:\n",
    "    accuracies = history.accuracies\n",
    "    plt.plot(\n",
    "        list(range(len(accuracies))),\n",
    "        accuracies,\n",
    "        label='training accuracy',\n",
    "    )\n",
    "    val_accs = history.val_accs\n",
    "    plt.plot(\n",
    "        list(range(len(val_accs))),\n",
    "        val_accs,\n",
    "        label='validation accuracy',\n",
    "    )\n",
    "    plt.title('training accuracy')\n",
    "    plt.xlabel('training epoch')\n",
    "    plt.ylabel('training accuracy')\n",
    "    plt.ylim((0, 1))\n",
    "    plt.legend()\n",
    "    step = .1\n",
    "    plt.yticks(np.arange(0, 1+step, step))\n",
    "print(f'testing accuracy   : {dnn.evaluate(X_train, y_train, verbose=0)[1]:.3f}%')\n",
    "print(f'validation accuracy: {dnn.evaluate(X_test, y_test, verbose=0)[1]:.3f}%')\n"
   ]
  },
  {
   "cell_type": "markdown",
   "metadata": {},
   "source": [
    "### Review Incorrect Predictions"
   ]
  },
  {
   "cell_type": "code",
   "execution_count": 828,
   "metadata": {
    "scrolled": true
   },
   "outputs": [
    {
     "name": "stdout",
     "output_type": "stream",
     "text": [
      "update articles set content_matches_nl_topic=false where aid=32;\n",
      "Unsupervised Learning Daniel Miessler\n",
      "Please give your feedback on the list here.\n",
      "\n",
      "The OWASP Internet of Things Top 10 has not been updated since 2014, for a number of reasons. First of which was the fact that we released the new umbrella project that removed focus from the Top 10 format. This, in retrospect, seems to have been a mistake.\n",
      "\n",
      "The idea was to just make a vulnerability list, and get away from the Top 10 concept.\n",
      "\n",
      "As it turns out, people like Top 10 lists, and things have changed enough in the last few years that the team has been working this year to update the project for 2018.\n",
      "\n",
      "This is what we’ve come up with so far, and I wanted to just talk through some of the philosophy and methodology for this year’s release.\n",
      "\n",
      "Philosophy\n",
      "\n",
      "So the philosophy we worked under was that of simplicity and practicality. We don’t believe the big data approach works as well as people hope it would, i.e., collecting datasets from hundreds of companies, looking at hundreds of thousands of vulnerabilities, and then hoping for the data to somehow speak wisdom to us.\n",
      "\n",
      "The quality of the project comes from picking great team members who have the most experience, the least bias, and the best attitudes toward the project and collaboration\n",
      "\n",
      "Many of us on the team have been part of the OWASP rodeo for quite some time, and what we’ve learned over the years is that ultimately—no matter how much data you have—you end up relying on the expertise and judgment of the team to create your final product. In the end it’s the people.\n",
      "\n",
      "That being said, we wanted to take input from as many sources as possible to avoid missing vulnerabilities, prioritization, that others have captured elsewhere. We basically took it as a philosophy to be the best of what we knew from everywhere in the industry—whether that’s actual vulnerability data or curated standards and guidance from other types of IoT project.\n",
      "\n",
      "What kind of widgets are these?\n",
      "\n",
      "One thing that we deliberately wanted to sidestep was the religious debates around whether to call these things in the Top 10 vulnerabilities, threats, or risks. We solve that by referring to them as things to avoid. Again, practicality over pedantry.\n",
      "\n",
      "Who is the audience?\n",
      "\n",
      "The next big consideration from a philosophy standpoint was looking at who this list is meant to serve. The classic three options are developers/manufacturers, enterprises, and consumers. One option we looked at early on was creating a separate list for each. We might still do this as a later step, but having learned our lesson from removing the Top 10 we decided it’s hard enough getting people to focus on a single one—so three would make it at least three times as hard.\n",
      "\n",
      "So the 2018 IoT Top 10 is a composite list for developers/manufacturers, enterprises, and consumers.\n",
      "\n",
      "Methodology\n",
      "\n",
      "Given that as a backdrop, here are the source types we ended up using to collect from and start analysis.\n",
      "\n",
      "A number of sanitized *Top N* vulnerability lists from major IoT manufacturers. Parsing of a number of relatively recent IoT security standards and projects, such as CSA’s Future-proofing the Connected World, ENISA’s Baseline Security Recommendations for IoT, Stanford’s Internet of Things Security Project, NIST’s Draft 8200 Document, and many more. Evaluation of the last few years of IoT vulnerabilities and known compromises to see what’s actually attracting attention and causing damage. Many conversations with our networks of peer security and IoT experts about the list, to get feedback on priority and clarity.\n",
      "\n",
      "We very quickly saw some key trends from these inputs.\n",
      "\n",
      "The weak credential issue stuck out as the top issue basically everywhere\n",
      "\n",
      "Listening services was almost universally second in all inputs\n",
      "\n",
      "Privacy kept coming up in every list, project, and conversation\n",
      "\n",
      "These repeated manifestations in projects, standards, and conversations lead to them being weighted heavily in the project.\n",
      "\n",
      "Prioritization is critical\n",
      "\n",
      "And that brings us to weighting.\n",
      "\n",
      "We saw the project as basically being two phases:\n",
      "\n",
      "Collecting as many inputs as possible to ensure that we weren’t blind to a vector, vulnerability, category, etc. Determining how to rank the issues to do the most good.\n",
      "\n",
      "Naturally the ratings are based on a combination of likelihood and impact, but in general we leaned slightly more on the likelihood factor because the main attack surface for this list is remote. In other words, it might be (and usually is) much worse to have physical access than to have telnet access, but if the device is on the internet then billions of people have telnet access, and we think that matters a lot.\n",
      "\n",
      "This is why Lack of Physical Hardening is I8 and not I4 or I5, for example.\n",
      "\n",
      "So our weighting was ultimately a combination of probability and impact, but with a significant mind towards how common an issue was, how available that issue usually is to attackers, and how often it’s actually being used and seen in the wild. We used our vulnerability lists from vendors to influence this quite a bit, seeing that as a signal that those issues are actually being found in real products.\n",
      "\n",
      "The ask of you\n",
      "\n",
      "Full-size image.\n",
      "\n",
      "So what we have now is a draft version that we’re looking to release as final within the next month or so. What we’d like is input from the community. Specifically, we’d love to hear thoughts on two aspects:\n",
      "\n",
      "List contents, i.e., why did you have X and not Y?\n",
      "\n",
      "List prioritization, i.e., you should put A lower, and B higher.\n",
      "\n",
      "And any other input would honestly be appreciated as well. And if you want to join the project you can do that at any time as well. It’s been an open project throughout, and we’ve had many people join and contribute. We meet every other Friday in the OWASP Slack’s #iot-security channel at 8AM PST.\n",
      "\n",
      "You can give us feedback there, or you can hit me up directly on Twitter at @danielmiessler.\n",
      "\n",
      "The team\n",
      "\n",
      "I really want to thank the team for coming together on this thing. It’s honestly been the smoothest, most pleasant, and most productive OWASP project I’ve ever been part of, and I attribute that to the quality and character of the people who were part of it.\n",
      "\n",
      "Thanks to Jim Manico for the input as well!\n",
      "\n",
      "Vishruta Rudresh (Mimosa): Mimosa was extraordinarily awesome throughout the entire project. She was at virtually every meeting, and took over meetings when I could not attend. Her technical expertise and demeanor made her an absolute star of a team member.\n",
      "\n",
      "Mimosa was extraordinarily awesome throughout the entire project. She was at virtually every meeting, and took over meetings when I could not attend. Her technical expertise and demeanor made her an absolute star of a team member. Aaron Guzman: Aaron is an OWASP veteran and all-around badass in everything IoT Security. His input and guidance were invaluable throughout the entire process.\n",
      "\n",
      "Aaron is an OWASP veteran and all-around badass in everything IoT Security. His input and guidance were invaluable throughout the entire process. Vijay Pushpanathan: Vijay brought his significant IoT security expertise and professionalism to help provide constant input into direction and content.\n",
      "\n",
      "Vijay brought his significant IoT security expertise and professionalism to help provide constant input into direction and content. José Alejandro Rivas Vidal: José was a consistent contributor of high-quality technical input and judgement.\n",
      "\n",
      "José was a consistent contributor of high-quality technical input and judgement. Alex Lafrenz: Significant and quality input into the list formation and prioritization.\n",
      "\n",
      "Significant and quality input into the list formation and prioritization. Charlie Worrell\n",
      "\n",
      "Craig Smith\n",
      "\n",
      "Daniel Miessler\n",
      "\n",
      "HINT: No egos.\n",
      "\n",
      "Seriously—I wish all OWASP projects could be this smooth. The team was just phenomenal. If anyone wants to hear how we managed it, reach out to me and I’ll try to share what we learned.\n",
      "\n",
      "Summary\n",
      "\n",
      "We’re updating the OWASP IoT Top 10 for the first time since 2014. It’s a combined list of vulnerabilities, threats, and risks. It’s a unified list for manufacturers/developers, enterprises, and consumers. Our methodology was to go extremely broad on collection of inputs, including tons of IoT vulnerabilities, IoT projects, input from the team members, and input from fellow professionals in our networks. We combined probability with impact, but slightly favored probability due to the remote nature of IoT. We need your help in improving the draft before we go live sometime in October. Please give your feedback here!!!\n",
      "\n",
      "The Feedback From\n",
      "\n",
      "Thank you!\n",
      "######################################################################\n",
      "update articles set content_matches_nl_topic=false where aid=58;\n",
      "Unsupervised Learning Daniel Miessler\n",
      "Cunning malware VPNFilter remains under active development, and is acquiring ever more dangerous features.\n",
      "\n",
      "That's the conclusion Cisco's Talos Intelligence security team reached after delving into recent samples and identifying seven “third-stage VPNFilter modules that add significant functionality to the malware”.\n",
      "\n",
      "VPNFilter rose to prominence in May, when Talos found half a million pwned home routers and NAS boxes in 54 countries. The FBI attributed the attacks to Russia's Sofacy group (“Fancy Bear”), seized a command-and-control domain, and asked people to reboot their routers.\n",
      "\n",
      "While maintaining that VPNFilter has mostly been neutralised, Talos' Edmund Brumaghin wrote that “it can still be difficult to detect in the wild if any devices remain unpatched”.\n",
      "\n",
      "The infosec company has stayed on the case, and this Wednesday released a blog post saying the new functions it has discovered include an “expanded ability” to attack endpoints from compromised network devices, data filtering, “multiple encrypted tunnelling capabilities” to conceal C&C and data exfiltration traffic, and a tool to build a network of proxies to conceal the true source of VPNFilter traffic.\n",
      "\n",
      "The specific modules are called:\n",
      "\n",
      "htpx – HTTP traffic redirection and traffic inspection;\n",
      "\n",
      "– HTTP traffic redirection and traffic inspection; ndbr – a multi-functional SSH utility;\n",
      "\n",
      "– a multi-functional SSH utility; nm – network mapping from compromised devices;\n",
      "\n",
      "– network mapping from compromised devices; netfilter – a denial-of-service utility;\n",
      "\n",
      "– a denial-of-service utility; portforwarding – forwards network traffic to attacker-specified infrastructure;\n",
      "\n",
      "– forwards network traffic to attacker-specified infrastructure; socks5proxy – Sets up a SOCKS5 proxy on the compromised device; and\n",
      "\n",
      "– Sets up a SOCKS5 proxy on the compromised device; and tcpvpn – Sets up a reverse-TCP VPN on the compromised device.\n",
      "\n",
      "The other important discovery Talos highlighted in the post was the attackers' use of a MikroTik administration utility called Winbox, a small Windows 32 utility that mirrors the functions offered on the Web-based admin interface.\n",
      "\n",
      "It turned out older versions of Winbox presented an attack vector through TCP Port 8291, and because Winbox data is passed as “large blobs of binary data,” exploits aren't easily identifiable in network traffic. By way of example, Brumaghin cited early September's directory traversal bug, CVE-2018-14847.\n",
      "\n",
      "Talos has released a Winbox traffic dissector as a Wireshark plugin at GitHub. ®\n",
      "######################################################################\n",
      "update articles set content_matches_nl_topic=false where aid=59;\n",
      "Unsupervised Learning Daniel Miessler\n",
      "CLOSE Your clever password may not be as safe as you think. Buzz60's Sean Dowling has more. Buzz60\n",
      "\n",
      "Brad Smith CEO of Aspire Health, at his office on Friday, Dec. 9, 2016, in Nashville, Tenn. Smith landed $32 million in venture capital from GV, the investment arm of Google. It was the first time GV invested in the Nashville company. (Photo: Mark Zaleski/For the Tennessean) Story Highlights The hack originated from a website with an Eastern European IP address.\n",
      "\n",
      "Aspire has subpoenaed Google in an attempt to ID the hacker.\n",
      "\n",
      "NASHVILLE – Aspire Health, a health care company that offers in-home treatment in 25 states, was hacked earlier this month and lost some patient information to an unknown cyberattacker.\n",
      "\n",
      "The hack, disclosed for the first time in federal court records filed Tuesday, occurred after a phishing attack gained access to Aspire’s internal email system Sept. 3. The hacker then forwarded 124 emails to an external email account, including emails that contained “confidential and proprietary information and files” and “protected health information,” according to the court records.\n",
      "\n",
      "No other information about the contents of the hacked emails has been made public, so it is unclear how many patients have been exposed and what kind of information was leaked. Aspire has issued a statement saying it has already alerted a \"small handful\" of patients who \"may have been impacted\" by the email breach.\n",
      "\n",
      "Other patients who are concerned about the breach have been asked to contact the company's 24-hour help number at 615-346-8468.\n",
      "\n",
      "More: Still haven't frozen your credit since the huge hack? Here's how.\n",
      "\n",
      "More: Scammers threaten to expose your porn habits\n",
      "\n",
      "More: Your life is on your smartphone. These 8 steps can keep cyberthieves out\n",
      "\n",
      "Cory Brown, a chief compliance officer for Aspire, said that the company immediately locked the compromised email account after discovering the phishing attack.\n",
      "\n",
      "Brown added it is unknown if the stolen emails were actually opened by the hacker.\n",
      "\n",
      "\"Aspire takes the security of its data and the personal information of its patients very seriously,\" Brown said. \"Aspire is now working through the legal process to determine if any Aspire information was ultimately accessed by a third party.\"\n",
      "\n",
      "Aspire Health offers house-call physicians offering palliative care for advanced cancer and other serious illnesses.\n",
      "\n",
      "Aspire trying to ID the hacker\n",
      "\n",
      "In the court records filed Tuesday, Aspire said it has tried to identify the hacker but so far has been unable to do so. The phishing attack originated from a website with an IP address in Eastern Europe for which Google is the registrar.\n",
      "\n",
      "Since the phishing attack was discovered, Google has flagged the Eastern European website as “deceptive.” Anyone who now visits the site is met with a bright-red warning sign saying they may be tricked into revealing personal information.\n",
      "\n",
      "A screenshot of a Google warning that appears if you attempt to visit the website connected to a phishing attack on Aspire Health. The company disclosed Tuesday that it was hacked earlier this month. (Photo: Kelman, Brett M, Google screenshot)\n",
      "\n",
      "The hacking attack was revealed Tuesday as Aspire filed a federal court motion seeking to subpoena Google for more information on the unknown hacker. Aspire attorney James Haltom said in the court motion that Google’s internal records should be able to identify the culprit – currently known only as John Doe 1.\n",
      "\n",
      "Haltom wrote in court records that Aspire requested the information from Google “informally,” but Google said Aspire would need to get a subpoena.\n",
      "\n",
      "More: From hashtags to comments: 4 steps to get more followers on Instagram\n",
      "\n",
      "More: PlayStation players can now play Fortnite with friends on Xbox, other platforms\n",
      "\n",
      "More: Lyft, Uber can pay more than $2,000 a month but there are conditions\n",
      "\n",
      "“The proposed subpoena to Google should provide information showing who has accessed and/or maintains the phishing website and the subscriber of the e-mail account that John Doe 1 used in the phishing attack,” Haltom wrote. “This information will likely allow Aspire to uncover and locate John Doe 1.”\n",
      "\n",
      "A phishing attack, one of the most basic forms of corporate hacking, involves fraudulent email that uses false pretenses in an effort to obtain private information, including computer passwords.\n",
      "\n",
      "Follow Brett Kelman on Twitter at @brettkelman.\n",
      "\n",
      "Read or Share this story: https://usat.ly/2NFPe3D\n",
      "######################################################################\n",
      "update articles set content_matches_nl_topic=false where aid=72;\n",
      "Unsupervised Learning Daniel Miessler\n",
      "Many of the calls are actually in Mandarin, which I don’t speak.\n",
      "\n",
      "Over the last few months I’ve seen my spam phone calls go from around one a week to like ten a day, and it’s been infuriating.\n",
      "\n",
      "After a good bit of Googling, I ended up coming up with two solutions that reduced the problem by around 90%.\n",
      "\n",
      "A lot of spammers ignore the Do Not Call List, but many do honor it. It’s not possible to really know the ratio there, but being on the list will definitely reduce the number of calls you get to some degree.\n",
      "\n",
      "This one is obviously AT&T only, but there are similar apps for other carriers below.\n",
      "\n",
      "AT&T Call Protect is a carrier-provided app that automatically filters spam and fraud calls, and has a mobile app to help you manage it and see what it’s blocked.\n",
      "\n",
      "Nomorobo is a third-party app that I settled on after trying 3-4 alternatives. I actually liked the look and feel of some of the others much better, but this one seemed most effective at stopping calls when combined with AT&T’s offering.\n",
      "\n",
      "For non-AT&T customers\n",
      "\n",
      "Summary\n",
      "\n",
      "This is a cat and mouse game, and the spammers are always adjusting, but this has helped me massively and it should work for you as well.\n",
      "######################################################################\n",
      "update articles set content_matches_nl_topic=false where aid=84;\n",
      "Unsupervised Learning Daniel Miessler\n",
      "Adobe has released patches fixing six critical vulnerabilities in its ColdFusion product that could lead to arbitrary code-execution.\n",
      "\n",
      "The flaws impact Adobe’s ColdFusion product, which is the company’s commercial web application development platform. Impacted are the 2016 (Update 6 and earlier versions) and the July 12 (2018) release of ColdFusion, as well as ColdFusion 11 (Update 14 and earlier versions).\n",
      "\n",
      "Overall, Adobe said ColdFusion contained nine flaws, including four critical deserialization of untrusted data flaws that could lead to arbitrary code-execution (CVE-2018-15965, CVE-2018-15957, CVE-2018-15958 and CVE-2018-15959). Additional flaws included one critical unrestricted file upload bug that could also lead to arbitrary code-execution (CVE-2018-15961) and one critical vulnerability that could enable arbitrary file-overwrite (CVE-2018-15960).\n",
      "\n",
      "Other vulnerabilities include an important-severity security bypass glitch that allows arbitrary folder creation (CVE-2018-15963), an important directory listing flaw that could enable information disclosure (CVE-2018-15962), and a moderate information-disclosure vulnerability (CVE-2018-15964).\n",
      "\n",
      "Adobe said it is not aware of any exploits in the wild for any of the issues addressed in the updates. The company recommends users update installations to ColdFusion 2018 Update 1, ColdFusion 2016 Update 7, and ColdFusion 11 Update 15.\n",
      "\n",
      "“Adobe also recommends customers apply the security configuration settings as outlined on the ColdFusion Security page as well as review the respective Lockdown guides,” the company said in an advisory published Tuesday.\n",
      "\n",
      "In addition to ColdFusion, Adobe also released a security update for Adobe Flash Player for Windows, macOS, Linux and Chrome OS. The update addresses an important-rated vulnerability in Adobe Flash Player Desktop Runtime, Flash Player for Google Chrome, and Flash Player for Microsoft Edge and Internet Explorer 11 – all for versions 30.0.0.154 and earlier.\n",
      "\n",
      "The flaw (CVE-2018-15967) is a privilege-escalation vulnerability, the successful exploitation of which could lead to information disclosure. Adobe said that it is not aware of any exploits in the wild for the flaw; and users of impacted Adobe Flash Player versions should update to version 31.0.0.108.\n",
      "\n",
      "This month’s 10 patches were on par with last month’s August Patch Tuesday for Adobe, where the company released 11 total fixes, including two critical patches for Acrobat and Reader. Exploitation of those vulnerabilities could lead to arbitrary code-execution in the context of the current user.\n",
      "\n",
      "Last month, Adobe also issued two unscheduled updates – including for two critical flaws that could enable remote code-execution in Photoshop CC and a second unscheduled update to address a bug with a publicly available proof-of-concept code in the wild.\n",
      "######################################################################\n",
      "update articles set content_matches_nl_topic=false where aid=86;\n",
      "Unsupervised Learning Daniel Miessler\n",
      "“Active Measures” could hardly be more perfectly timed. It’s a documentary that digs into the relationship between Donald Trump and the powers of Russia, and while it’s not as if the film comes up with some smoking gun that Robert Mueller hasn’t yet, it fills in the Trump-Russia connection in a dogged, rigorously reported, eyebrow-raising way.\n",
      "\n",
      "The movie is a follow-the-money exposé, and the director, Jack Bryan, lays out the roadmap of cash by making bracing and detailed connections between all the forces at work: the snaky leader-thug Vladimir Putin; the oligarchs he placed under his thumb (except for those who wouldn’t cooperate — he got rid of them); the Russian mobsters who are enmeshed in the workings of the Putin government; and Trump himself. “Active measures” is a phrase used in Russia to describe political warfare by the security services to influence the course of world events, but the movie says that if you want to understand the collusion between Trump and Russia, don’t focus on the 2016 election. The collusion goes back decades, and that’s its real meaning.\n",
      "\n",
      "Flush with the likes of John McCain, Hillary Clinton, and John Dean (even the liberal faithful may be surprised at how galvanizing it is to hear Clinton’s insights), the movie kicks off with a fascinating portrait of Putin’s rise to power, complete with some great early photographs of him in which he looks like Illya Kuryakin crossed with Alex from “A Clockwork Orange.” (The glare is killer.)\n",
      "\n",
      "But we already know about Putin — the former head of the FSB, elected to the presidency in the wake of the 1999 terrorist bombing of four Russian apartment buildings that many believe to have been an inside job. (The explosives were of a kind used exclusively by the KGB.) Once Putin assumed power, government critics, including a number of the country’s top journalists, began to turn up dead, and it’s no surprise to hear about Putin’s links with organized crime. But to the extent that “Active Measures” focuses on a kind of Russian mob mentality, it is not, primarily, about murder or the destruction of free speech. It’s about money laundering.\n",
      "\n",
      "Russia’s preeminent crime boss, a human grizzly bear named Semion Mogilevich, is said to be worth $10 billion, and he was the first Russian to figure out how to launder money on a mass scale. That meant interfacing with the West. Trump Tower, which opened in 1983, was one of the first buildings in New York where shell companies could buy and sell condos without identifying themselves, and it became what Craig Unger of Vanity Fair, in the movie, calls “a money-laundering paradise.” Russian mobsters, such as David Bogatin, began to deal with Trump the year after Trump Tower opened. A little later, the Trump Taj Mahal in Atlantic City was supposed to become Trump’s flagship, but it was a famous debacle that left him in ruins. Apart from its failure as a business, it was charged with violating money-laundering statutes.\n",
      "\n",
      "Trump, famously, was up to his eyeballs in debt, and since he’d filed for bankruptcy half a dozen times, American banks wanted nothing to do with him. All those loans had been his financial Viagra; now they’d dried up. But that’s what made him the perfect mark for the Russians. According to the movie, Trump would never have found his way back had it not been for the flow of cash from the Russian underworld.\n",
      "\n",
      "There are now 30 Trump Towers all over the world, and added together, they contain thousands of condominiums owned by shell companies. According to Unger, a $5 million condo could change hands three or four times a year and — voilà! — you’ve laundered $20 million. That, in essence, is Trump’s business. Not to mention characters like the Russian oligarch Dimitry Rybolovlev, who bought a property from Trump for $95 million, not long after the 2008 real-estate crash, and never pretended to use it. It was a favor — a way of infusing cash into Trump’s pockets.\n",
      "\n",
      "This is all part of the financial scuttlebutt that has followed Trump around for years, but “Active Measures” names the names and fills in the flowchart of Trump’s corruption with gripping authority. Of course, none of this proves that Trump colluded with Russia in any political sense. But coming just days after the conviction of Paul Manafort, it’s edifying, in “Active Measures,” to get a close-up portrait of how Manafort became the lackey of Putin’s Ukrainian puppet president Viktor Yanukovych. He also went to work for Dimitry Firtash, a Ukranian oligarch who was in bed with the Mob (together, Firtish and his criminal connections siphoned off billions of dollars of gas money), as well as a direct associate of Putin’s.\n",
      "\n",
      "“Active Measures” cites a key proposition of the Christopher Steele dossier: that the Russians basically turned Donald Trump five years ago. The movie can’t prove this, but it provides a juicy piece of circumstantial evidence when it shows us that Trump, partying in Moscow during the 2013 Miss Universe Pageant (the time when the pee-pee tape, if it exists, was made), left the city after just two-and-a-half days to attend Billy Graham’s 95th birthday bash. Trump’s presidential aspiration was all over that move. (God knows, it wasn’t as good a party.)\n",
      "\n",
      "The rest of “Active Measures” is devoted to filling in Russia’s fake-news propaganda efforts (something it does a thorough job of, though not nearly as deep a one as that found in the chilling, yet-to-be-released documentary “Our New President”), and to the Manchurian Blowhard conjecture that many of us now indulge in on a daily basis, based on the following facts: that Trump, in pushing for the breakup of NATO, has openly pimped for one of the cornerstones of Putin’s wreck-the-West strategy; that at the Republican Convention, language supporting the independence of Ukraine was excised from the party platform at Trump’s request (something that still shocks John McCain); and, of course, the outrageous daily evidence of Trump’s clear and persistent man-crush on Putin. Arriving on the heels of this week’s verdicts, “Active Measures” plays as a heady warm-up to whatever’s coming next. We don’t have the big picture — yet — but this movie does an expert job of connecting more than a few of the dots.\n",
      "######################################################################\n",
      "update articles set content_matches_nl_topic=false where aid=95;\n",
      "Unsupervised Learning Daniel Miessler\n",
      "An observatory in New Mexico has been unexpectedly closed due to an unnamed \"security issue,\" prompting evacuations and a visit from the FBI. The Sunspot Observatory is now currently closed to both staff and the public, with no word on why or when it will be open again.\n",
      "\n",
      "“We have decided to vacate the facility at this time as precautionary measure,” said spokesperson Shari Lifson to the Alomogordo Daily News. “The Association of Universities for Research in Astronomy who manages the facility is addressing a security issue at this time.”\n",
      "\n",
      "Advertisement - Continue Reading Below\n",
      "\n",
      "Tap here to vote\n",
      "\n",
      "Lifson said that the facility was first evacuated on September 6 and has remained closed since then. According to Lifson, the observatory has no date for reopening yet.\n",
      "\n",
      "As part of the investigation into the security issue, the observatory has contacted the FBI, which has been reported on the scene with multiple agents and a Blackhawk helicopter. According to local sheriff Benny House, the agency has been working with local law enforcement but refuses to share any details.\n",
      "\n",
      "“The FBI is refusing to tell us what’s going on,” said House. “We’ve got people up there that requested us to standby while they evacuate it. Nobody would really elaborate on any of the circumstances as to why.”\n",
      "\n",
      "“We have decided to vacate the facility at this time as precautionary measure\"\n",
      "\n",
      "The sheriff speculated that the evacuation could be due to some kind of threat made against the facility or its staff, but expressed confusion as to why local police would be left out of the loop. “If that’s the case, why didn’t they call us and let us deal with it?” he said. “I don’t know why the FBI would get involved so quick and not tell us anything.”\n",
      "\n",
      "Another possibility could be some sort of hazardous chemical leak or other natural danger, but again there’s no reason for the FBI to keep everyone in the dark. Whatever the reason, the scientists are forced to postpone their research while the FBI’s investigation continues.\n",
      "\n",
      "Source: Alomogordo Daily News\n",
      "\n",
      "[Related: Why the FBI Mysteriously Closed That New Mexico Observatory]\n",
      "######################################################################\n",
      "update articles set content_matches_nl_topic=false where aid=111;\n",
      "Unsupervised Learning Daniel Miessler\n",
      "RESIDENTS of Indonesia’s second largest city Surabaya can now pay for the bus in a novel way – by trading in used plastic.\n",
      "\n",
      "The city’s mayor Tri “Risma” Rismaharini last month announced the roll out of the new Suroboyo Bus, comfortable, air-conditioned buses which are, importantly, accessible for disabled, elderly and pregnant passengers.\n",
      "\n",
      "While the buses might be shiny and new, passengers are invited to pay for their rides not just with money, but with plastic they turn in at designated bus stops and recycling stations around the city.\n",
      "\n",
      "SEE ALSO: How are Asian countries tackling plastic pollution?\n",
      "\n",
      "“Passengers can travel around Surabaya for two hours for free,” Risma said as quoted by Indonesia’s Antara News agency. The government seeks to reduce private vehicles – which currently consist of 75 percent of traffic on the roads – to 50/50 with public transportation.\n",
      "\n",
      "Indonesia produces 187.2 million tonnes of plastic waste each year, making it the second biggest marine polluter in the world behind only China.\n",
      "\n",
      "Surabaya’s government intends to process the plastic into useful goods. “This is our commitment in handling plastic waste that cannot be destroyed for hundreds of years,” added Risma.\n",
      "\n",
      "Back in 2015, Risma was recognised as one of the world’s best mayors “for energetically promoting her social, economic and environmental policies in Indonesia’s second-largest city.”\n",
      "\n",
      "SEE ALSO: Australian supermarkets to phase out plastic bags in 2018, but not all happy\n",
      "\n",
      "The previous year, she closed down one of Southeast Asia’s largest red-light district known as Dolly and turned much of the area into kindergartens and playgrounds.\n",
      "\n",
      "Risma has also overseen the establishment of public parks in a number of unused public spaces which provide WiFi, libraries and sport facilities.\n",
      "\n",
      "Indonesia has also trialled building roads out of recycled plastic, rolling them out in Surabaya along Jakarta and Bekasi.\n",
      "######################################################################\n",
      "update articles set content_matches_nl_topic=false where aid=117;\n",
      "Unsupervised Learning Daniel Miessler\n",
      "\n",
      "\n",
      "\n",
      "\n",
      "If you’re not imbuing your children and friends with grit—as a core part of their identity—they will soon be driving rich people around and bringing them food. Rich people who probably have grit themselves.\n",
      "\n",
      "Grit\n",
      "\n",
      "/’grit’/\n",
      "\n",
      "noun A positive, non-cognitive trait based on an individual’s perseverance of effort combined with the passion for a particular long-term goal or end state.\n",
      "\n",
      "The way I describe grit to my friends is that it’s the quality that allows you to aggressively and consistently pursue long-term goals. It’s basically a superpower.\n",
      "\n",
      "I mean the hard-working, education/career-based elite, not the super-rich class.\n",
      "\n",
      "It’s what many immigrants have that later generations don’t. It’s what the new Chinese elite have in the US, where parents from China instill the concepts of elitism and pedigree and competition into their children from an extremely early age.\n",
      "\n",
      "There are learning centers like this all over the Bay Area, and most big cities, and they’re full of Asians. They’re full of kids who have parents who have grit, and who will soon have grit themselves.\n",
      "\n",
      "They’re full of kids who will soon be running the country.\n",
      "\n",
      "Why?\n",
      "\n",
      "Because people with grit are better at saving money. They are better at school. They’re better at postponing gratification (almost the definition), and because of these things they’re going to be the ones with the good jobs, the high salaries, and the vast proportion of the wealth and power.\n",
      "\n",
      "This is especially true now, in a world where Humans Need Not Apply. In a marketplace where only the smartest and most knowledgeable will have good jobs, it’ll be the people who are most educated and financially disciplined that will succeed.\n",
      "\n",
      "They will be the ones who can pay to stay continuously educated, can ensure their kids have the best schooling, the best connections, and have access to the most resources.\n",
      "\n",
      "The other 75-90% will either be out of the job market altogether or will be working jobs that basically support the top 10%’s comfortable lifestyles. These jobs will be largely in the services industries: transportation, healthcare, food service, personal assistants, etc.\n",
      "\n",
      "And these jobs will not be pleasant. Hours will be unpredictable, grueling, sporadic, and the employers will have all the leverage because there will be many people out of work trying to get the same positions.\n",
      "\n",
      "Anyway, some of that is a diversion into a separate topic, where I’m seriously concerned about the health of the American system due to the force of automation and AI.\n",
      "\n",
      "Read my related piece titled The Bifurcation of America: The Forced Class Separation into Alphas and Betas\n",
      "\n",
      "But even taking that off the table, I see the world splitting into two main classes–Alphas and Betas.\n",
      "\n",
      "There’s a lot of support for this in the data.\n",
      "\n",
      "And I believe grit will be one of the top attributes that differentiate who goes into which class.\n",
      "\n",
      "Intelligence obviously plays a factor, as does luck, but I believe the biggest advantage will be the ability to grind. Grinding through school. Grinding through saving money. Grinding through acquiring credentials and wealth. And then grinding through doing all of this again for their kids.\n",
      "\n",
      "If you don’t have grit, or you know friends (and especially parents) who don’t have it, do your best to improve it in yourself and in them.\n",
      "\n",
      "Notes\n",
      "######################################################################\n",
      "update articles set content_matches_nl_topic=false where aid=2502;\n",
      "Casual Spectator Sports\n",
      "Tony Dejak/Associated Press\n",
      "\n",
      "The Cleveland Cavaliers' Tristan Thompson could miss some time after suffering a calf injury in Wednesday's loss to the Indiana Pacers.\n",
      "\n",
      "The center was limited to just 15 minutes before being ruled out with a left calf strain, per Dave McMenamin of ESPN.\n",
      "\n",
      "According to Alex Hooper of 92.3 The Fan, he was seen using crutches on his way out the arena. David Aldridge of TNT noted Thompson would have an MRI on Thursday.\n",
      "\n",
      "Thompson finished with two points and seven rebounds while the Cavs fell to 3-5 with the loss.\n",
      "\n",
      "Injuries have never been much of a concern for Thompson, who had played in a franchise-record 447 consecutive games before a sprained thumb kept him out of a couple of games last season. He still ended up appearing in 78 regular-season games last year, plus 18 in the playoffs.\n",
      "\n",
      "Considering how much time he spends banging in the post, this is quite a feat.\n",
      "\n",
      "However, Thompson appears to be slowed by another injury that could keep him off the court. His history should give the team confidence in a quick recovery, but the coaching staff should make alternative plans if he is unavailable.\n",
      "\n",
      "Although the 26-year-old has never been much of an offensive presence, averaging just 4.4 points per game this season, he is usually extremely valuable defensively and on the glass but is averaging 6.4 rebounds per game.\n",
      "\n",
      "Channing Frye becomes the team's next option at center, although the Cavaliers will likely use Kevin Love and LeBron James more in the post with smaller lineups around them.\n",
      "######################################################################\n",
      "update articles set content_matches_nl_topic=false where aid=2505;\n",
      "Casual Spectator Sports\n",
      "0 of 6\n",
      "\n",
      "Jesse D. Garrabrant/Getty Images\n",
      "\n",
      "Divorce is (mercifully) imminent for the Philadelphia 76ers and Jahlil Okafor.\n",
      "\n",
      "As Philly Voice's Kyle Neubeck first reported Tuesday—and the team later confirmed—the Sixers didn't pick up Okafor's fourth-year option for 2018-19. The big man will instead hit unrestricted free agency in July.\n",
      "\n",
      "This news comes on the heels of league sources telling ESPN.com's Chris Haynes that Okafor's camp was \"collaborating\" with Philadelphia to find a \"suitable trade\" for the 21-year-old. The Sixers' decision to decline his option infers a freezing-cold market while nodding to their interest in a summer spending spree.\n",
      "\n",
      "\"Multiple members of the organization insisted privately that cap flexibility next summer is a major priority for the team, and they are hopeful they can bring max-level players to the negotiation table,\" Neubeck wrote. \"With Joel Embiid's big raise set to kick in next summer and Robert Covington likely on the verge of signing an extension, Bryan Colangelo and his staff need to find ways to free up money elsewhere.\"\n",
      "\n",
      "Cutting the cord with Okafor after this season trims $6.3 million from the Sixers' bottom line if they let him come off the books. They also could still deal him prior to February's trade deadline, according to ESPN.com's Adrian Wojnarowski.\n",
      "\n",
      "The following hypothetical trades will reflect the Sixers' wide scope of options. They range from pure dumps to \"at least they got something\" to \"Hey! That's not terrible!\"\n",
      "\n",
      "Certain deals will lean into their cap conservation. Others will involve them taking on additional salary. Latter scenarios will not require them to bow out of the free-agency ring entirely, but the Sixers cannot expect to move Okafor while saving money at every turn.\n",
      "\n",
      "Judging from the decision to decline his option, Okafor's value holds firm at zero-zilch-nada. His appeal dips even further knowing any team that trades for him won't be able to offer him a starting salary in free agency worth more than the $6.3 million he was initially owed next year, per ESPN.com's Bobby Marks.\n",
      "\n",
      "If the Sixers are unwilling to add any salary whatsoever, they might as well broker a buyout—which Okafor may push for, according to Marc Stein of the New York Times—or wait for his salary to slither off their books in July.\n",
      "######################################################################\n",
      "update articles set content_matches_nl_topic=false where aid=2570;\n",
      "Casual Spectator Sports\n",
      "CAMDEN, N.J. -- The Sixers were on the verge of wrapping up training camp with a renewed sense of optimism as they approached the season with a foundation of promising young players.\n",
      "\n",
      "They had one more scrimmage to complete, after which they would head back to Philadelphia feeling energized for their first preseason game on Tuesday.\n",
      "\n",
      "But then, the all-too-familiar happened. A rookie went down. The rookie went down. First overall pick Ben Simmons rolled his right ankle and fractured his fifth metatarsal bone (see story).\n",
      "\n",
      "Not again.\n",
      "\n",
      "“We’ve all been hit in the stomach and you lose your wind,” Brett Brown said following practice on Sunday.\n",
      "\n",
      "The Sixers are continuing to gather medical information on Simmons’ injury. On Saturday, a league source told CSNPhilly.com Simmons will have surgery and a date has yet to be set. President of basketball operations Bryan Colangelo said Sunday that surgery is “likely.” He did not specify the type of fracture (see story).\n",
      "\n",
      "“I don’t want to get into specific definitions not having the medical expertise,” Colangelo said. “I’ve heard a lot of opinion over the last several days. I’d suffice it to say he broke his fifth metatarsal and how that’s termed or coined I’ll leave for the experts.”\n",
      "\n",
      "The Sixers had been through this before. Joel Embiid missed the last two years with foot injuries. Jahlil Okafor is coming back from season-ending knee surgery. Nerlens Noel sat out his entire rookie season with an ACL injury. The news of Simmons’ injury was all too familiar.\n",
      "\n",
      "“There is nobody, sadly, that’s had more experience dealing with injured draft picks than we have.” Brown said. “Over the course of time, you learn how to best deal with it. I have seen this every year I’ve been here.”\n",
      "\n",
      "At the conclusion of camp, Brown met with Simmons at the hospital where they discussed the news, which Brown described as “deflating.” He believes Simmons’ ability to respond to challenges at a high level and the experience the Sixers staff has rehabbing players from injuries gave Simmons cause for optimism in his recovery.\n",
      "\n",
      "“He’s a quiet man; his dad was the same,” Brown said. “He’s prideful, he wants to please. … His mood was somber but I think he got a lot excitement about sharing positive stories and truly tapping into what he has available to get him back on the court.”\n",
      "\n",
      "The injury struck a chord with Embiid, whose NBA debut has been on hold since the 2014 Draft. He plans to be a go-to for Simmons if he has questions or needs encouragement during the recovery process.\n",
      "\n",
      "“Obviously I felt for him,” Embiid said. “Immediately I had to talk to him and try to tell him everything is going to be ok, he has to keep his head up. … It’s all about patience and doing the right thing. You’ve got to do what you’re supposed to do.”\n",
      "\n",
      "The Sixers had spent less than a week with Simmons, but it quickly became clear how much of an impact he could make on the team. Brown raved about his defensive potential. Simmons’ versatility provides numerous combinations and opportunities for roster experimentation. It was easy to envision how Simmons could become a centerpiece of the team.\n",
      "\n",
      "“When I saw the injury, I didn’t believe it would be something like that,” Dario Saric said. “I sent Ben a message, stay positive. I know it’s hard for all of us. He’s one of the leaders of the team.”\n",
      "\n",
      "The team also sensed Simmons’ excitement to begin his NBA career. While he is not overly expressive through his words, his enthusiasm came through on the court.\n",
      "\n",
      "“I was saddened, disappointed for him,” Okafor said. “I know how badly he wanted to bring some joy to the city of Philadelphia and how badly he wanted to go out there and perform. It was unfortunate.”\n",
      "\n",
      "The Sixers are going to take a cautious approach to Simmons’ rehab (see story). And so the team will move forward without him for now, the same way they have done so without their rookies in the past. Brown knows the mindset the players will have to take as they begin their season without one of their top teammates.\n",
      "\n",
      "Said Brown, “There has to be a real level of resilience.”\n",
      "######################################################################\n",
      "update articles set content_matches_nl_topic=false where aid=2576;\n",
      "Casual Spectator Sports\n",
      "Pinterest Photo Illustration/Getty Images\n",
      "\n",
      "The plan involved a covert political operative who worked with Putin, a double amputee, a settlement with Texas A&M, and—ultimately—a failed bid that opened up the opportunity for Donald Trump's presidential run.\n",
      "\n",
      "As Donald Trump finds new ways to drag out his vicious feud with the National Football League— he tweeted Monday morning that there's \"no leadership in the NFL\"—a big question looms about where this all began. Could it be, as several reports now suggest, that this whole national trauma can be traced back to Trump's failed attempt to buy the Buffalo Bills back in 2014?\n",
      "\n",
      "That's what some team owners have reportedly said, contending that the president is driven by a personal grudge stemming from his multiple doomed efforts over the decades to become the owner of an NFL franchise. Jacksonville Jaguars owner Shahid Khan told USA Today that Trump is \"jealous\" of the league and its owners, having failed to become one. \"He's been elected President, where maybe a great goal he had in life—to own an NFL team—is not very likely,\" Khan said.\n",
      "\n",
      "But, come on, how badly did Trump really want to buy the Bills? Badly enough, it seems, to create a dubious grassroots campaign to pressure the team and the league to not sell to a rival group of bidders.\n",
      "\n",
      "Back in early 2014, with the team for sale and potential buyers in the process of being narrowed to three finalists—Trump, Buffalo Sabres owner Terry Pegula, and a group of Toronto investors led by Jon Bon Jovi—speculation was rampant that the would-be Canadian buyers planned to move the franchise north of the border. That's when a local fan group sprang up, hoping to turn sentiment in Buffalo against Bon Jovi and his partners.\n",
      "\n",
      "These activist Bills backers called themselves \"12th Man Thunder\" and began orchestrating colorful stunts like establishing \"Bon Jovi-Free Zones\" in local bars, antics that earned them ink everywhere from Breitbart to New York magazine. (All that attention also got them into a legal showdown with Texas A&M over the use of the phrase \"12th man,\" which the Aggies had trademarked.)\n",
      "\n",
      "But what almost nobody knew—until now—is that the whole thing was pulled together by the then-future president of the United States. In the spring of 2014, Trump hired veteran Republican operative and Buffalo resident Michael Caputo—a close associate of Paul Manafort and Roger Stone. Caputo had worked with Ollie North during the Reagan years and then helped boost the careers of Boris Yeltsin and Vladimir Putin as a political consultant in Russia—now he was enlisted to create a group that would scuttle Bon Jovi's NFL chances.\n",
      "\n",
      "\"Trump knew he couldn't outbid the Canadians,\" Caputo recounted to me recently. Instead, Caputo explained, he would scare them off by turning Buffalo against them. Two days after we spoke, the president took the stage at a political rally in Alabama and began his smoldering feud with the NFL by calling any player who showed the temerity to kneel during the national anthem a \"son of a bitch.\"\n",
      "\n",
      "Having been publicly involved with abortive efforts to launch Trump into New York's gubernatorial race the year before, Caputo was too closely associated with the mogul to be the public face of the 2014 effort, so he recruited others. \"I had it all set up with neighborhood guys who lived by the stadium,\" he explained.\n",
      "\n",
      "\"We weren't even allowed to mention [Trump's] name because of the agreement that he signed.\"\n",
      "\n",
      "In a stroke of cunning, Caputo recruited Chuck Sonntag, a double amputee cancer survivor, to serve as the group's leader. Press coverage would occasionally identify Caputo as a \"PR consultant\" to the group, while reporting that it was founded by Sonntag as he lay recovering from his amputations in a rehabilitation center. \"It was easier for Sonntag to lose his leg than his team,\" Caputo recalled.\n",
      "\n",
      "(Astroturfing like this—covertly funding a supposedly grassroots group—was not a new tactic for Trump and his operatives. Back in 2000, Stone and Trump's Atlantic City casino business paid massive fines after they funneled $150,000 to a group called \"the Institute for Law and Society\" to run newspaper ads opposing the legalization of a Native American casino in the Catskills and failed to disclose the transaction to New York's lobbying regulators.)\n",
      "\n",
      "Trump's involvement in the Buffalo scheme was short-lived. According to Caputo, not long after 12th Man Thunder was formed, Trump entered a $1 billion bid for the Bills, and as a condition of that offer, was forbidden from participating in public outreach efforts related to the sale. So, as Caputo recalls, Trump called him and told him that he had to break off contact with him and the fan group. \"I can't talk to you anymore because of the NDA I signed,\" Caputo remembers Trump saying. \"Have a good time.\"\n",
      "\n",
      "\"We immediately made it far more aggressive and anti-Toronto than the president ever envisioned, mostly because we didn't have to worry about getting him crossways with the NFL,\"\n",
      "\n",
      "Charlie Pellien, a Buffalo local who co-founded the group said that keeping a lid on Trump's involvement was a challenge. \"It was all behind the scenes and we weren't even allowed to mention his name because of the agreement that he signed,\" Pellien told me. \"I was bursting at the seams to tell people, 'Hey, this was Donald Trump's idea.'\"\n",
      "\n",
      "With Trump having removed himself from the picture, Caputo took the gloves off. \"We immediately made it far more aggressive and anti-Toronto than the president ever envisioned, mostly because we didn't have to worry about getting him crossways with the NFL,\" he said.\n",
      "\n",
      "The group gathered thousands of signatures for a petition demanding the team remain in Buffalo and started a \"Ban Bon Jovi\" movement to rid upstate New York of the New Jersey rocker's music. A local radio station, Jack FM, started playing a version of \"Livin' on a Prayer\" with new lyrics that went, \"Johnny used to get played on Jack / Now he wants our Bills / But Buffalo just won't take that / He's wack.\"\n",
      "\n",
      "It generated so much noise and color that Texas A&M, which has trademarked the phrase \"12th man\" took notice and sent a cease-and-desist letter to the group over its use of the phrase.\n",
      "\n",
      "Unbowed, Caputo generated a raft of coverage of the dispute that amounted to: Texas A&M threatens double amputee cancer survivor with lawsuit.\n",
      "\n",
      "The conflict caught the notice of Keith Olbermann, who in July of that year dubbed the university's then-president, Dr. Mark A. Hussey, \"The World's Worst Person in Sports\" for taking on Sonntag. \"Screw you!\" Olbermann declared in a segment about the controversy on his eponymous ESPN show. (Olbermann is now GQ's Special Correspondent and host of \"The Resistance\")\n",
      "\n",
      "\"It changed everything,\" said Caputo, recalling that immediately after the school landed in Olbermann's crosshairs, he received a call from one of its attorneys looking to broker peace. Feeling emboldened, Caputo said he wouldn't settle with the university unless they gave money to his group, to help them keep the Bills in Buffalo.\n",
      "\n",
      "\"The beating continues unless they donate 25k to this organization to stop the Canadians from buying our team,\" Caputo said he told the university's attorney. Caputo said the school quickly okayed the sum and that he now wishes he had demanded $50,000 for the group. On July 30, the school and the group announced they had reached a settlement and that the group would change its name to \"Bills Fan Thunder.\"\n",
      "\n",
      "Representatives for the NFL and the White House did not offer comment for this story. A spokesman for Texas A&M declined to comment and instead referred me to a joint press release from the time that describes the settlement as \"amicable.\"\n",
      "\n",
      "With the threat of legal action out of the way, the group's campaign continued—and it worked, partially. Bon Jovi didn't get the Bills, but neither did Trump. Instead, in September 2014 the team went to Pegula, who has kept it in Buffalo.\n",
      "\n",
      "Without an NFL team to run, Trump entered the presidential race nine months later, capitalizing on anti-foreigner sentiment, outrageous stunts and the enthusiasm of colorful grassroots groups to win the presidency. Caputo, Stone and Manafort each joined his presidential campaign as advisers and then left it amid various public blowups. All three have been hauled before Congress as it investigates possible collusion between the Trump campaign and Russia.\n",
      "\n",
      "Caputo said Bills Fan Thunder still exists, and that it now has 20 season tickets it uses to send underprivileged youth from Buffalo, along with chaperones, to each home game. Caputo told me that after Trump launched his White House bid, he informed the candidate that the group had transformed into a vehicle for taking poor kids to Bills games. Trump, he said, seemed pleased and regularly peppered him for updates on the organization over the course of the campaign.\n",
      "\n",
      "Olbermann, meanwhile, has just published a book based on his GQ work critiquing the president—it is called, unsubtly, \"Donald Trump is F*cking Crazy.\" Despite their differences, Caputo places the imperatives of football over mere political disagreements.\n",
      "\n",
      "\"He can do whatever he wants on GQ and say whatever he wants,\" Caputo said of Olbermann. \"He'll always be a hero to me.\"\n",
      "\n",
      "Ben Schreckinger is a GQ correspondent in Washington, D.C.\n",
      "\n",
      "Watch Now:\n",
      "######################################################################\n",
      "update articles set content_matches_nl_topic=false where aid=2565;\n",
      "Casual Spectator Sports\n",
      "To honor those lost at Borderline Grill and Bar, the wife and son of fallen Sgt. Ron Helus, Karen and Jordan, light the ceremonial torch.\n",
      "\n",
      "Points? Probably. Stars? Enough to fit the Hollywood locale. Here's the best from the Chiefs-Rams Monday Night Football showdown.\n",
      "\n",
      "Patrick Mahomes sends a pass to Tyreek Hill, who makes the catch in the end zone for a touchdown.\n",
      "\n",
      "Patrick Mahomes tosses a quick screen pass to Kareem Hunt, who speeds 21 yards into the end zone for a touchdown.\n",
      "\n",
      "Aaron Donald sacks Patrick Mahomes and also causes him to fumble the ball, in which Samson Ebukam picks up and returns it for the score.\n",
      "\n",
      "Patrick Mahomes scrambles away from pressure and finds Chris Conley in the end zone, who makes a great catch for the score.\n",
      "\n",
      "ABOUT COOKIES\n",
      "\n",
      "To help make this website better, to improve and personalize your experience and for advertising purposes, are you happy to accept cookies and other technologies?\n",
      "######################################################################\n",
      "update articles set content_matches_nl_topic=false where aid=2603;\n",
      "Casual Spectator Sports\n",
      "Vest, $2,061, by Rick Owens / Tank top, $239, and shorts, $570, by Rick Owens / Sneakers, $150, by NikeLab x John Elliot GQ Cover Story LeBron James Is the Greatest Living Athlete (and Here's Why) LeBron James has been basketball's best player for the better part of 14 years. But it's his work off the court—in business, in movies, and increasingly in politics—that will define the depth of his greatness. We tailed the king from L.A. to New York to Toronto and back again, talking LeBron Inc., MJ, Cleveland, race, and the man we'd come to know simply as \"U bum.\"\n",
      "\n",
      "Ten days before Donald Trump took on Colin Kaepernick and the NFL and Stephen Curry and the NBA, and before LeBron James, one of the most famous and popular humans in America, called the president of the United States a \"bum\" on Twitter, I asked him if he thought his adversarial stance against Trump might end up being for him what the Vietnam War was for Muhammad Ali.\n",
      "\n",
      "\"Well,\" he said, \"I think only time will tell.\"\n",
      "\n",
      "How so?\n",
      "\n",
      "\"I think Ali represented something bigger than Ali. He wanted to make a change for a future without him included. That's what Ali brought to the table. I don't know what it's like to live in every state in this country, but I know freedom. I know the opportunity that our country has given people, and to see the guy in charge now not understanding that is baffling to not only myself but to my friends and to the people that've helped grow this country. But Muhammad Ali's correlation to the war… I don't think me and Donald Trump could ever get to that point.\"\n",
      "\n",
      "On the one hand, appraising the greatness of an athlete is an incredibly easy thing to do. There are seasons and statistics and big plays and rings. There are streaks and records and head-to-head matchups and end-of-season accolades. The data, the video clips, the testimonials—it's all there to compare across time. The games don't change as much as other things in society change, and so we can make strong cases, we can make cross-generational arguments, we can say things like: LeBron James is the greatest living athlete. Based on what he's done on the court thus far and what he still could potentially do in years to come.\n",
      "\n",
      "On the other hand, an athlete's greatness can be defined more expansively. What was their influence? What did they mean? It's almost like the difference between a strict and a broad constructionist. The former looks at only what's there and says, for example: He was a top-three running back based on rushing yards and touchdowns. The latter looks at the expansiveness of the role an athlete plays in their society at a given time and asks: Who were they compared to? Who could they and should they have been? What did they do for their generation? What power did they wield, and to what effect?\n",
      "\n",
      "LeBron James is, we'd argue, a broad constructionist on the athlete-greatness front. There is LeBron James the basketball player, and he's front and center, he's still number one. But there's a deep understanding of the way this life of his is going to work for decades to come—that one day (maybe not as soon as for some other players, but still) basketball will run out, and it will be on to Phase II. Which is why he spends his off-season cramming his days laying groundwork for what comes next, expanding the universe of LeBron Inc.\n",
      "\n",
      "“It’s my responsibility. I believe that I was put here for a higher cause. We have people that have been in the higher positions that chose to do it and chose not to do it.”\n",
      "\n",
      "Over the course of a couple of weeks, I was with him as he premiered a documentary with Drake at the Toronto Film Festival, addressed crème de la crème world leaders in Midtown Manhattan, walked in a fashion show in Hell's Kitchen, and soldiered through a five-hour magazine photo shoot with ninja-military precision in L.A. (He didn't request a single thing during the shoot, not water, not food; he had one fruit snack that I offered him from my pack. It was grape.) I watched up close the ways he transformed expertly from audience to audience, modulating his clothes, and his voice, and his posture, and the way he used his hands (sometimes gesturing wildly, sometimes holding them quietly in a diamond shape at his belt buckle), and even the way he talked about the game he's galactically famous for. (I watched him oversimplify basketball to a roomful of film producers, who he safely assumed might be basketball illiterate, even describing a slam dunk as \"one of our best plays in my sport.\") He code-switched effortlessly, all depending on who was sitting across the proverbial business table from him.\n",
      "\n",
      "He's deadly serious about his universe of extra-basketball enterprises. And that fact right there is just one of the several arguments for his greatness. He knows the critical importance of Phase II for taking the fame, the exposure, and the influence that he has garnered and cultivated in basketball, and amplifying it to any number of ends. He knows that LeBron without Phase II is…Wilt? Russell? That is, a legacy of greatness on the court for all time, but muted by a relatively quiet life after the game. A quiet life after the game is not for LeBron James.\n",
      "\n",
      "Which is why, over the years, he's spent such energy and shrewdness assembling the people around him—a Dream Team of old friends and new partners and experts in this field and that, who strategically operate within every emerging arena for him. The team is critical. The team will go a long way to priming the potential greatness of LeBron James in Phase II.\n",
      "\n",
      "\"I have people around me, for the most part, that've been around me for a long time,\" he told me. \"So when you've been around people for a long time, there's no sugarcoating, there's no trying to put you higher than what you should be, there's no yes-men or -women, there's no gas. It's just straight-up, raw, uncut, unfiltered knowledge, truth, passion.\"\n",
      "\n",
      "No matter how grand an athlete's ambitions outside the arena, their influence is limited if they're not exceptionally dominant in it. Despite the best ideas or the most benevolent intentions, their potential influence correlates with their talent. It just does. They can't do what LeBron James wants to do in the world if they haven't already made their case on the court. Which is, of course, why the greatness of this athlete in particular obviously starts there.\n",
      "\n",
      "Despite LeBron's having won just—\"just\"—four MVP awards, no player has been more consistently dominant and impactful over the past decade and a half in the NBA. And yet it's hard to see when the downturn will come. Somehow at 32 and on the verge of Season 15, he's in better shape than he was during his rookie year. (\"I feel amazing,\" he told me while getting a hand massage.) Veteran LeBron has double the muscle and seemingly none of the body fat of Rookie LeBron. He looks like an action figure—an unrealistic one at that. But you don't charge up and down the court like a freight train, guarded by every team's best and most physical defender game in and game out, 39 minutes a night, without showing a little wear and tear somewhere.\n",
      "\n",
      "As far as I could tell, he has only two physical tells that confirm his mortality. The first? His feet. Every ballplayer has busted-up, twisted feet. But the King's are exceptionally wrung out. They look like they went 12 rounds with the bear from The Revenant.\n",
      "\n",
      "The other? Two scars on the back of his head you can only see up close.\n",
      "\n",
      "How'd you get those scars on the back of your head?\n",
      "\n",
      "\"One, I got elbowed.\"\n",
      "\n",
      "In a basketball game?\n",
      "\n",
      "\"In practice, when I was in Miami.\"\n",
      "\n",
      "Really?! By who? I bet they were nervous.\n",
      "\n",
      "\"Yeah, they were! I won't say who it was, though.\" He laughs. \"My own teammate elbowed me.… Sixteen [stitches] across the back.\"\n",
      "\n",
      "The other scar?\n",
      "\n",
      "\"During the Finals I fell into a camera, against Golden State. The first time we played them.\"\n",
      "\n",
      "Did you have any stitches then?\n",
      "\n",
      "\"No, I actually—this was just glue. It was going to be staples, but I told them, 'Don't fucking staple my head.' And they put in the glue, and it didn't heal right. We kept this one under wraps, though.\"\n",
      "\n",
      "Why?\n",
      "\n",
      "\"Because we don't talk about injuries. I don't talk about injuries.\"\n",
      "\n",
      "The fact that LeBron hasn't been seriously injured isn't just something that explains his dominance—it's becoming almost like a mythic quality surrounding him, a suggestion of infallibility that's useful to propagate for the intimidation factor alone. It's a fact that is key to unlocking the whole recipe—the unmatched talent, yes; the unfettered intensity, sure; but more than anything, that physical consistency, the ability to just play, to stay in the game. The most high-profile player in sports can have his head busted open—during the NBA Finals, no less—and he keeps it a secret because glue will be sufficient.\n",
      "\n",
      "When it comes to on-court greatness, LeBron beats MJ—and every other athlete—for these factors and more, and because he has the legitimate potential to play the game of basketball at the highest level longer than anyone else. Or, as he put it when I asked how he thought he could become greater than MJ in most people's eyes: \"If I was the most consistent and was at the top of the food chain more than anybody in NBA history.\" He's been to seven straight NBA Finals and could seemingly play at that level for another 10 seasons—25 total. That's astonishing. And no one has been \"the greatest\" for decades.\n",
      "\n",
      "Would you play when you're washed up? If you love doing it, but you weren't…\n",
      "\n",
      "\"I know I won't be able to play at this level forever, but to be washed and play… I don't know if I can play washed.\"\n",
      "\n",
      "Maybe you'll play against little Bronny when he gets to the league?\n",
      "\n",
      "\"I don't know if I could play washed, but I damn sure would love to stick around if my oldest son can have an opportunity to play against me. That'd be, that'd be the icing on the cake right there.\"\n",
      "\n",
      "Yeah, but you can't let him embarrass you out there, though.\n",
      "\n",
      "\"I'll foul the shit out of him!\" He laughs. \"I'd give him all six fouls. I'd foul the shit out of Bronny, man.\"\n",
      "\n",
      "Yeah, like every time he tries to shoot.\n",
      "\n",
      "\"On sight: Flagrant 2!\"\n",
      "\n",
      "The Four Seasons conference room in New York was filled with producers, cameramen, and the obligatory anxiety that comes with waiting to receive a very famous person. There were basically two guys in charge in the room, one in a decent suit and one in a bad suit. Bad Suit worked for the Bloomberg Global Business Forum and explained what LeBron James was doing there: They needed \"a world leader of equal stature\" to the attendees of their upcoming summit—statesmen and businessmen like Emmanuel Macron, Justin Trudeau, Bill Clinton, Bill Gates, Tim Cook, and Jack Ma (Asia's richest man). It was one of those highly exclusive gatherings where all the world's problems would either be solved or spawned. In the conference room, there were ten or so people setting up to record the greeting, a pre-taped call to action to be broadcast at the opening of the summit. \"How many world leaders are actually known around the world?\" Bad Suit said. \"We needed him.\"\n",
      "\n",
      "When LeBron enters a room, it feels like the floor tilts down in his direction. And this afternoon was no different. His voice carried. His hand, extraterrestrial, extended with seasoned celebrity coyness. Our necks craned up. The King smiled down, a smile as wide as his wingspan. His Lanvin shirt looked painted on. He had a pair of Nike Air Zoom Generation sneakers on his feet. He was about to address the leaders of the Free World in a pair of Nikes.\n",
      "\n",
      "Decent Suit ushered LeBron to his seat in front of a teleprompter and gave him directions he didn't need. \"You're representing all of us,\" he said. Meaning: people who want more from their elected and unelected leaders. LeBron politely insisted, \"I got it.\"\n",
      "\n",
      "After the prompter scrolled the speech a few times, LeBron gave it—a speech he was seemingly reading for the first time—a try and nailed it on the first attempt. He never hesitated or second-guessed a single word. Bad Suit's eyes filled with the same hope Morpheus's did when he found out that Neo was in fact the One. Someone in the back gasped, like out of a movie. And then, to just about every head of state and titan of industry worth a damn, 32-year-old LeBron James said, \"We know the world needs us to step up.\"\n",
      "\n",
      "Us.\n",
      "\n",
      "A moment like that is the most significant reason why LeBron James is the greatest living athlete. Greatness has an all-encompassing burden. It's a beauty and brains type of mandate. Floyd Mayweather could go undefeated for 50 more fights, but he'd never be the greatest living athlete. Because he's selfish. And tacky. And consequently, small. You have to transcend sport to be the greatest—beyond sneakers and drinks that replenish electrolytes and video-game covers and money teams.\n",
      "\n",
      "“I think, um, they can love what LeBron James does. Do they know what LeBron James completely represents? I don’t think so.”\n",
      "\n",
      "It's the Ali Test. It's a people's-champ-ness one needs. It's the ability to turn fans into followers and followers into consequential action. To be able to legitimately have an effect on the way people live in the world, as corny as it sounds. And LeBron, more than any other living athlete on earth, has that in him. The fact that he's putting over a thousand kids through college is commendable. But when assessing his imprint and the potential of his reach, it seems relatively small. Like a 30-point game. He's reaching for something bigger. Something that most athletes eschew and that LeBron himself wasn't always inclined to do. It's not like he was out there his rookie season stumping for candidates. But things have changed. It's a different world now. Which is why I figured I'd test out the upper limit of his ambition.\n",
      "\n",
      "Would you ever want to be president?\n",
      "\n",
      "\"Of the United States?\" He pauses. \"Nah.\"\n",
      "\n",
      "That didn't seem like a confident answer.\n",
      "\n",
      "\"I say no because of always having to be on someone else's time. From the outside looking in, it seems like the president always has to be there—gotta be there. You really don't have much 'me time.' I enjoy my 'me time.' The positive that I see from being the president… Well, not with the president we have right now, because there's no positive with him, but the positive that I've seen is being able to inspire. Your word has command to it. If you're speaking with a knowledgeable, caring, loving, passionate voice, then you can give the people of America and all over the world hope.\"\n",
      "\n",
      "Why is being known for speaking up on social issues so important to you?\n",
      "\n",
      "\"I don't do it to get praise or to be in an article. I do it because it's my responsibility. It's my responsibility.\"\n",
      "\n",
      "Is it anyone in your position's responsibility? Or is it your responsibility?\n",
      "\n",
      "\"Nah, it's my responsibility. I believe that I was put here for a higher cause. We have people, not only today but over the course of time, that have been in the higher positions that chose to do it and chose not to do it.\"\n",
      "\n",
      "But do you think it's wrong not to speak up if you have the platform?\n",
      "\n",
      "\"I don't think it's right or wrong. If it's in you, and if it's authentic, then do it. If it's some fake shit, then the people, the kids, they're going to notice it. They know.\"\n",
      "\n",
      "W. E. B. Du Bois talks about how a black person will always feel his \"two-ness\" in America. You're a very extreme example of that. On the one hand, you're the savior of Ohio. It's nearly impossible to find someone in Ohio who doesn't worship you. But it also has its share of racism. Is that difficult when something happens in your backyard?\n",
      "\n",
      "\"It's heavy when a situation occurs either with myself or with someone in a different city, i.e., Trayvon, Mike Brown. I have to go home and talk to my 13- and 10-year-old sons, even my 2-year-old daughter, about what it means to grow up being an African-American in America. Because no matter how great you become in life, no matter how wealthy you become, how people worship you, or what you do, if you are an African-American man or African-American woman, you will always be that.\"\n",
      "\n",
      "The two-ness.\n",
      "\n",
      "\"True colors will show, and it showed for me during the playoffs, where my house in Brentwood, California, one of the fucking best neighborhoods in America, was vandalized with, you know, the N-word. And that shit puts it all back into perspective. So do I use my energy toward that? Or do I now shed a light on how I can use this negative to turn into a positive, because so many people are looking for what I'm going to say. I had a conversation with my kids. I let them know this is what it is, this is how it's going to be. When it's time for y'all to fly, you'll have to understand that. When y'all go out in public and y'all start driving or y'all start moving around, be respectful to cops, as much as you can. When you get pulled over, call your mom or dad, put it on speakerphone, and put your phone underneath the seat. But be respectful the whole time.\"\n",
      "\n",
      "Can a state that elected Donald Trump also love LeBron James? Is that actually possible?\n",
      "\n",
      "\"That's a great question. I think, um, they can love what LeBron James does. Do they know what LeBron James completely represents? I don't think so. So those people may love the way I play the game of basketball, because they might have some grandkids, you know, they might have a son or a daughter or a niece that no matter what they're talking about, the kids are like, 'LeBron is LeBron. And I don't give a damn what you talking about. I love him.' So they don't have a choice liking me. But at the end of the day, these people are gonna resort back to who they are. So do I have a definite answer to that? My state definitely voted for Donald Trump, the state that I grew up in. And I think I can sit here and say that I have a lot of fans in that state, too. It's unfortunate.\"\n",
      "\n",
      "The way LeBron speaks on race threads a very fine needle. It's healing and inclusive while also being extremely real. He's the anti-conformist athlete. From tweets and Instagram posts about police brutality to the way he's taken control of his career—off the court and on the court. The way he chose to leave Cleveland and then chose to come back. The way he broke the norms of free agency in the process. He's liberated every NBA player from now to eternity. But at the time, in the summer of 2010, he was bludgeoned for it—by media, by fans, and, perhaps most controversially, by Cavs owner Dan Gilbert, who published an open letter to the city of Cleveland, effectively calling LeBron a narcissist and a traitor. It had nothing to do with business or sport, for that matter. Some argued that it read like he thought he owned more than just the team—like he owned LeBron.\n",
      "\n",
      "Did you feel like Dan Gilbert's letter was racial?\n",
      "\n",
      "\"Um, I did. I did. It was another conversation I had to have with my kids. It was unfortunate, because I believed in my heart that I had gave that city and that owner, at that point in time, everything that I had. Unfortunately, I felt like, at that point in time, as an organization, we could not bring in enough talent to help us get to what my vision was. A lot of people say they want to win, but they really don't know how hard it takes, or a lot of people don't have the vision. So, you know, I don't really like to go back on that letter, but it pops in my head a few times here, a few times there. I mean, it's just human nature. I think that had a lot to do with race at that time, too, and that was another opportunity for me to kind of just sit back and say, 'Okay, well, how can we get better? How can we get better? How can I get better?' And if it happens again, then you're able to have an even more positive outlook on it. It wasn't the notion of I wanted to do it my way. It was the notion of I'm gonna play this game, and I'm gonna prepare myself so damn hard that when I decide to do something off the court, I want to be able to do it because I've paid my dues.\"\n",
      "\n",
      "What does LeBron James owe the city of Cleveland?\n",
      "\n",
      "\"LeBron James owes nobody anything. Nobody. When my mother told me I don't owe her anything, from that point in time, I don't owe anybody anything. But what I will give to the city of Cleveland is passion, commitment, and inspiration. As long as I put that jersey on, that's what I represent. That's why I'm there—to inspire that city. But I don't owe anybody anything.\"\n",
      "\n",
      "Mark Anthony Green is GQ's style editor.\n",
      "######################################################################\n"
     ]
    }
   ],
   "source": [
    "labels = ['Casual Spectator Sports', \"Unsupervised Learning Daniel Miessler\"]\n",
    "\n",
    "incorrect_aid_indices = (dnn.predict(X).reshape(-1)>.5) != y\n",
    "incorrect_prediction_labels = y[incorrect_aid_indices]\n",
    "incorrect_aids = all_docvecs_aids[incorrect_aid_indices]\n",
    "\n",
    "for aid, label in zip(incorrect_aids, incorrect_prediction_labels):\n",
    "    print(f'update articles set content_matches_nl_topic=false where aid={aid};\\n{labels[label]}')\n",
    "    print(article_text_for_aid(aid, cursor_chromatic))\n",
    "    print('######################################################################')"
   ]
  },
  {
   "cell_type": "markdown",
   "metadata": {},
   "source": [
    "## Plot: Chromatic training set doc2vec+pca+plot"
   ]
  },
  {
   "cell_type": "code",
   "execution_count": 803,
   "metadata": {
    "collapsed": true
   },
   "outputs": [],
   "source": [
    "pca = PCA(3)"
   ]
  },
  {
   "cell_type": "code",
   "execution_count": 804,
   "metadata": {
    "collapsed": true
   },
   "outputs": [],
   "source": [
    "projected = pca.fit_transform(all_docvecs)"
   ]
  },
  {
   "cell_type": "code",
   "execution_count": 805,
   "metadata": {
    "scrolled": true
   },
   "outputs": [
    {
     "data": {
      "text/plain": [
       "(180, 3)"
      ]
     },
     "execution_count": 805,
     "metadata": {},
     "output_type": "execute_result"
    }
   ],
   "source": [
    "projected.shape"
   ]
  },
  {
   "cell_type": "code",
   "execution_count": 806,
   "metadata": {},
   "outputs": [
    {
     "data": {
      "text/plain": [
       "90"
      ]
     },
     "execution_count": 806,
     "metadata": {},
     "output_type": "execute_result"
    }
   ],
   "source": [
    "docvecs_pos.shape[0]"
   ]
  },
  {
   "cell_type": "code",
   "execution_count": 893,
   "metadata": {
    "scrolled": false
   },
   "outputs": [
    {
     "name": "stderr",
     "output_type": "stream",
     "text": [
      "/Users/mica/anaconda3/envs/doc2vec/lib/python3.6/site-packages/IPython/core/display.py:689: UserWarning:\n",
      "\n",
      "Consider using IPython.display.IFrame instead\n",
      "\n"
     ]
    },
    {
     "data": {
      "text/html": [
       "<iframe id=\"igraph\" scrolling=\"no\" style=\"border:none;\" seamless=\"seamless\" src=\"https://plot.ly/~mica15/54.embed\" height=\"525px\" width=\"100%\"></iframe>"
      ],
      "text/plain": [
       "<plotly.tools.PlotlyDisplay object>"
      ]
     },
     "execution_count": 893,
     "metadata": {},
     "output_type": "execute_result"
    }
   ],
   "source": [
    "# https://plot.ly/python/3d-scatter-plots/\n",
    "trace_pos = go.Scatter3d(\n",
    "    x=projected[:docvecs_pos.shape[0], 0],\n",
    "    y=projected[:docvecs_pos.shape[0], 1],\n",
    "    z=projected[:docvecs_pos.shape[0], 2],\n",
    "    mode='markers',\n",
    "#     connectgaps=False,\n",
    "#     line=False,\n",
    "#     text=use_words,\n",
    "    surfacecolor='green',\n",
    ")\n",
    "trace_neg = go.Scatter3d(\n",
    "    x=projected[docvecs_pos.shape[0]:, 0],\n",
    "    y=projected[docvecs_pos.shape[0]:, 1],\n",
    "    z=projected[docvecs_pos.shape[0]:, 2],\n",
    "    mode='markers',\n",
    "#     connectgaps=False,\n",
    "#     line=False,\n",
    "#     text=use_words,\n",
    "    surfacecolor='red',\n",
    ")\n",
    "\n",
    "\n",
    "fig = go.Figure(data=[trace_pos, trace_neg])\n",
    "py.iplot(fig)"
   ]
  },
  {
   "cell_type": "code",
   "execution_count": null,
   "metadata": {
    "collapsed": true
   },
   "outputs": [],
   "source": []
  },
  {
   "cell_type": "code",
   "execution_count": null,
   "metadata": {
    "collapsed": true
   },
   "outputs": [],
   "source": []
  },
  {
   "cell_type": "code",
   "execution_count": null,
   "metadata": {
    "collapsed": true
   },
   "outputs": [],
   "source": []
  },
  {
   "cell_type": "code",
   "execution_count": null,
   "metadata": {
    "collapsed": true
   },
   "outputs": [],
   "source": []
  },
  {
   "cell_type": "code",
   "execution_count": null,
   "metadata": {
    "collapsed": true
   },
   "outputs": [],
   "source": []
  },
  {
   "cell_type": "code",
   "execution_count": null,
   "metadata": {
    "collapsed": true
   },
   "outputs": [],
   "source": []
  },
  {
   "cell_type": "code",
   "execution_count": null,
   "metadata": {
    "collapsed": true
   },
   "outputs": [],
   "source": []
  },
  {
   "cell_type": "code",
   "execution_count": null,
   "metadata": {
    "collapsed": true
   },
   "outputs": [],
   "source": []
  },
  {
   "cell_type": "code",
   "execution_count": null,
   "metadata": {
    "collapsed": true
   },
   "outputs": [],
   "source": []
  },
  {
   "cell_type": "code",
   "execution_count": null,
   "metadata": {
    "collapsed": true
   },
   "outputs": [],
   "source": []
  }
 ],
 "metadata": {
  "kernelspec": {
   "display_name": "Python 3",
   "language": "python",
   "name": "pyspark"
  },
  "language_info": {
   "codemirror_mode": {
    "name": "ipython",
    "version": 3
   },
   "file_extension": ".py",
   "mimetype": "text/x-python",
   "name": "python",
   "nbconvert_exporter": "python",
   "pygments_lexer": "ipython3",
   "version": "3.6.5"
  },
  "toc": {
   "nav_menu": {},
   "number_sections": false,
   "sideBar": true,
   "skip_h1_title": false,
   "toc_cell": false,
   "toc_position": {
    "height": "821px",
    "left": "0px",
    "right": "1104px",
    "top": "107px",
    "width": "212px"
   },
   "toc_section_display": "block",
   "toc_window_display": true
  }
 },
 "nbformat": 4,
 "nbformat_minor": 2
}
